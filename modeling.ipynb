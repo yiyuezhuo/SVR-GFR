{
 "cells": [
  {
   "cell_type": "code",
   "execution_count": 1,
   "metadata": {},
   "outputs": [],
   "source": [
    "import pandas as pd\n",
    "\n",
    "import statsmodels.formula.api as smf\n",
    "import numpy as np\n",
    "import matplotlib.pyplot as plt\n",
    "\n",
    "%matplotlib inline"
   ]
  },
  {
   "cell_type": "code",
   "execution_count": 7,
   "metadata": {},
   "outputs": [],
   "source": [
    "%load_ext autoreload\n",
    "%autoreload 2"
   ]
  },
  {
   "cell_type": "code",
   "execution_count": 12,
   "metadata": {},
   "outputs": [
    {
     "data": {
      "text/plain": [
       "(1197, 6)"
      ]
     },
     "execution_count": 12,
     "metadata": {},
     "output_type": "execute_result"
    }
   ],
   "source": [
    "df = pd.read_excel('GFR-SVR数据.xls')\n",
    "df.shape"
   ]
  },
  {
   "cell_type": "code",
   "execution_count": 13,
   "metadata": {},
   "outputs": [
    {
     "data": {
      "text/plain": [
       "id        int64\n",
       "age       int64\n",
       "sex       int64\n",
       "rGFR    float64\n",
       "Scr     float64\n",
       "Cys     float64\n",
       "dtype: object"
      ]
     },
     "execution_count": 13,
     "metadata": {},
     "output_type": "execute_result"
    }
   ],
   "source": [
    "df.columns = ['id', 'age', 'sex', 'rGFR', 'Scr', 'Cys']\n",
    "df.head()\n",
    "# 1指男性 2指女性, xls里写了，DataFrame丢掉了这些元信息。\n",
    "\n",
    "df['Cys'] = pd.to_numeric(df['Cys'], errors='coerce')\n",
    "df.dtypes"
   ]
  },
  {
   "cell_type": "code",
   "execution_count": 14,
   "metadata": {},
   "outputs": [
    {
     "data": {
      "text/plain": [
       "(1188, 6)"
      ]
     },
     "execution_count": 14,
     "metadata": {},
     "output_type": "execute_result"
    }
   ],
   "source": [
    "df=df.dropna()\n",
    "df.shape"
   ]
  },
  {
   "cell_type": "markdown",
   "metadata": {},
   "source": [
    "虽然这些模型本身可能就是最小二乘法优化出来的，但它们是线性模型里最小二乘损失的，正如我们前面所展示的，SVR的非线性性使得我们可能可以\n",
    "得到更小的二乘损失，如果确实得到了那就可以直接做出结论。\n",
    "\n",
    "这里尝试几种可能，使用原始组合，类似经验公式的组合，与各种核函数的SVR之结果的比较。"
   ]
  },
  {
   "cell_type": "code",
   "execution_count": 18,
   "metadata": {},
   "outputs": [],
   "source": [
    "from empirical_formulas import CKD_EPI_Cr, CKD_EPI_Cys, CKD_EPI_Cr_Cys, FAS_cr, FAS_Cys, FAS_Cr_Cys, apply_formulas, func_name_list\n"
   ]
  },
  {
   "cell_type": "code",
   "execution_count": 16,
   "metadata": {},
   "outputs": [],
   "source": [
    "apply_formulas(df)"
   ]
  },
  {
   "cell_type": "code",
   "execution_count": 22,
   "metadata": {},
   "outputs": [
    {
     "data": {
      "text/html": [
       "<div>\n",
       "<style scoped>\n",
       "    .dataframe tbody tr th:only-of-type {\n",
       "        vertical-align: middle;\n",
       "    }\n",
       "\n",
       "    .dataframe tbody tr th {\n",
       "        vertical-align: top;\n",
       "    }\n",
       "\n",
       "    .dataframe thead th {\n",
       "        text-align: right;\n",
       "    }\n",
       "</style>\n",
       "<table border=\"1\" class=\"dataframe\">\n",
       "  <thead>\n",
       "    <tr style=\"text-align: right;\">\n",
       "      <th></th>\n",
       "      <th>id</th>\n",
       "      <th>age</th>\n",
       "      <th>sex</th>\n",
       "      <th>rGFR</th>\n",
       "      <th>Scr</th>\n",
       "      <th>Cys</th>\n",
       "      <th>CKD_EPI_Cr</th>\n",
       "      <th>CKD_EPI_Cys</th>\n",
       "      <th>CKD_EPI_Cr_Cys</th>\n",
       "      <th>FAS_cr</th>\n",
       "      <th>FAS_Cys</th>\n",
       "      <th>FAS_Cr_Cys</th>\n",
       "    </tr>\n",
       "  </thead>\n",
       "  <tbody>\n",
       "    <tr>\n",
       "      <th>0</th>\n",
       "      <td>85</td>\n",
       "      <td>34</td>\n",
       "      <td>1</td>\n",
       "      <td>76.67</td>\n",
       "      <td>1.161765</td>\n",
       "      <td>1.14</td>\n",
       "      <td>81.553927</td>\n",
       "      <td>72.510852</td>\n",
       "      <td>75.913649</td>\n",
       "      <td>83.123544</td>\n",
       "      <td>77.180702</td>\n",
       "      <td>80.041966</td>\n",
       "    </tr>\n",
       "    <tr>\n",
       "      <th>1</th>\n",
       "      <td>86</td>\n",
       "      <td>60</td>\n",
       "      <td>2</td>\n",
       "      <td>15.07</td>\n",
       "      <td>1.432127</td>\n",
       "      <td>2.00</td>\n",
       "      <td>39.761190</td>\n",
       "      <td>28.864466</td>\n",
       "      <td>32.625106</td>\n",
       "      <td>41.196016</td>\n",
       "      <td>869.301680</td>\n",
       "      <td>945.500992</td>\n",
       "    </tr>\n",
       "    <tr>\n",
       "      <th>2</th>\n",
       "      <td>618</td>\n",
       "      <td>47</td>\n",
       "      <td>2</td>\n",
       "      <td>148.20</td>\n",
       "      <td>0.497681</td>\n",
       "      <td>0.98</td>\n",
       "      <td>115.802372</td>\n",
       "      <td>78.417273</td>\n",
       "      <td>96.761765</td>\n",
       "      <td>138.689981</td>\n",
       "      <td>620.929771</td>\n",
       "      <td>778.646113</td>\n",
       "    </tr>\n",
       "    <tr>\n",
       "      <th>3</th>\n",
       "      <td>617</td>\n",
       "      <td>47</td>\n",
       "      <td>2</td>\n",
       "      <td>142.20</td>\n",
       "      <td>0.251103</td>\n",
       "      <td>0.64</td>\n",
       "      <td>145.031806</td>\n",
       "      <td>114.766346</td>\n",
       "      <td>144.009295</td>\n",
       "      <td>274.881043</td>\n",
       "      <td>950.798713</td>\n",
       "      <td>1302.813935</td>\n",
       "    </tr>\n",
       "    <tr>\n",
       "      <th>4</th>\n",
       "      <td>598</td>\n",
       "      <td>45</td>\n",
       "      <td>2</td>\n",
       "      <td>138.00</td>\n",
       "      <td>0.721638</td>\n",
       "      <td>0.72</td>\n",
       "      <td>101.179886</td>\n",
       "      <td>109.086440</td>\n",
       "      <td>105.972962</td>\n",
       "      <td>97.985812</td>\n",
       "      <td>603.681722</td>\n",
       "      <td>555.341141</td>\n",
       "    </tr>\n",
       "  </tbody>\n",
       "</table>\n",
       "</div>"
      ],
      "text/plain": [
       "    id  age  sex    rGFR       Scr   Cys  CKD_EPI_Cr  CKD_EPI_Cys  \\\n",
       "0   85   34    1   76.67  1.161765  1.14   81.553927    72.510852   \n",
       "1   86   60    2   15.07  1.432127  2.00   39.761190    28.864466   \n",
       "2  618   47    2  148.20  0.497681  0.98  115.802372    78.417273   \n",
       "3  617   47    2  142.20  0.251103  0.64  145.031806   114.766346   \n",
       "4  598   45    2  138.00  0.721638  0.72  101.179886   109.086440   \n",
       "\n",
       "   CKD_EPI_Cr_Cys      FAS_cr     FAS_Cys   FAS_Cr_Cys  \n",
       "0       75.913649   83.123544   77.180702    80.041966  \n",
       "1       32.625106   41.196016  869.301680   945.500992  \n",
       "2       96.761765  138.689981  620.929771   778.646113  \n",
       "3      144.009295  274.881043  950.798713  1302.813935  \n",
       "4      105.972962   97.985812  603.681722   555.341141  "
      ]
     },
     "execution_count": 22,
     "metadata": {},
     "output_type": "execute_result"
    }
   ],
   "source": [
    "df.head()"
   ]
  },
  {
   "cell_type": "code",
   "execution_count": 54,
   "metadata": {},
   "outputs": [
    {
     "data": {
      "text/plain": [
       "CKD_EPI_Cr        3.751869e+02\n",
       "CKD_EPI_Cys       4.130177e+02\n",
       "CKD_EPI_Cr_Cys    3.246929e+02\n",
       "FAS_cr            6.550004e+02\n",
       "FAS_Cys           1.699370e+06\n",
       "FAS_Cr_Cys        1.946557e+06\n",
       "dtype: float64"
      ]
     },
     "execution_count": 54,
     "metadata": {},
     "output_type": "execute_result"
    }
   ],
   "source": [
    "df[func_name_list].apply(lambda col: (col - df['rGFR'])**2).mean(axis=0)"
   ]
  },
  {
   "cell_type": "code",
   "execution_count": 23,
   "metadata": {},
   "outputs": [],
   "source": [
    "from sklearn.svm import SVR"
   ]
  },
  {
   "cell_type": "code",
   "execution_count": 24,
   "metadata": {},
   "outputs": [],
   "source": [
    "svr_rbf = SVR(kernel='rbf', C=1e3, gamma=0.1)\n",
    "svr_lin = SVR(kernel='linear', C=1e3)\n",
    "svr_poly = SVR(kernel='poly', C=1e3, degree=2)\n"
   ]
  },
  {
   "cell_type": "code",
   "execution_count": 25,
   "metadata": {},
   "outputs": [],
   "source": [
    "# SVR fit global(ignore discrete variable such as sex)\n",
    "# https://scikit-learn.org/stable/auto_examples/svm/plot_svm_regression.html\n",
    "\n",
    "X = df[['age', 'Scr', 'Cys']]\n",
    "y = df['rGFR']\n",
    "\n",
    "y_rbf = svr_rbf.fit(X, y).predict(X) # fit return itself, so our parameters are keeped\n",
    "y_lin = svr_lin.fit(X, y).predict(X)\n",
    "y_poly = svr_poly.fit(X, y).predict(X)\n"
   ]
  },
  {
   "cell_type": "code",
   "execution_count": 55,
   "metadata": {},
   "outputs": [
    {
     "data": {
      "text/plain": [
       "181.91022893282334"
      ]
     },
     "execution_count": 55,
     "metadata": {},
     "output_type": "execute_result"
    }
   ],
   "source": [
    "((df['rGFR'] - y_rbf)**2).mean()"
   ]
  },
  {
   "cell_type": "code",
   "execution_count": 57,
   "metadata": {},
   "outputs": [
    {
     "data": {
      "text/plain": [
       "318.5551840179531"
      ]
     },
     "execution_count": 57,
     "metadata": {},
     "output_type": "execute_result"
    }
   ],
   "source": [
    "((df['rGFR'] - y_lin)**2).mean()"
   ]
  },
  {
   "cell_type": "code",
   "execution_count": 58,
   "metadata": {},
   "outputs": [
    {
     "data": {
      "text/plain": [
       "23484.994633740313"
      ]
     },
     "execution_count": 58,
     "metadata": {},
     "output_type": "execute_result"
    }
   ],
   "source": [
    "((df['rGFR'] - y_poly)**2).mean()"
   ]
  },
  {
   "cell_type": "code",
   "execution_count": 56,
   "metadata": {},
   "outputs": [
    {
     "data": {
      "text/plain": [
       "324.692889024378"
      ]
     },
     "execution_count": 56,
     "metadata": {},
     "output_type": "execute_result"
    }
   ],
   "source": [
    "((df['rGFR'] - df['CKD_EPI_Cr_Cys'])**2).mean()"
   ]
  },
  {
   "cell_type": "code",
   "execution_count": 29,
   "metadata": {},
   "outputs": [
    {
     "data": {
      "text/plain": [
       "375.1869"
      ]
     },
     "execution_count": 29,
     "metadata": {},
     "output_type": "execute_result"
    }
   ],
   "source": [
    "3.751869e+02"
   ]
  },
  {
   "cell_type": "code",
   "execution_count": 36,
   "metadata": {},
   "outputs": [],
   "source": [
    "df['svr_rbf_global'] = svr_rbf.predict(X)"
   ]
  },
  {
   "cell_type": "code",
   "execution_count": 48,
   "metadata": {},
   "outputs": [
    {
     "data": {
      "text/html": [
       "<div>\n",
       "<style scoped>\n",
       "    .dataframe tbody tr th:only-of-type {\n",
       "        vertical-align: middle;\n",
       "    }\n",
       "\n",
       "    .dataframe tbody tr th {\n",
       "        vertical-align: top;\n",
       "    }\n",
       "\n",
       "    .dataframe thead th {\n",
       "        text-align: right;\n",
       "    }\n",
       "</style>\n",
       "<table border=\"1\" class=\"dataframe\">\n",
       "  <thead>\n",
       "    <tr style=\"text-align: right;\">\n",
       "      <th></th>\n",
       "      <th>id</th>\n",
       "      <th>age</th>\n",
       "      <th>sex</th>\n",
       "      <th>rGFR</th>\n",
       "      <th>Scr</th>\n",
       "      <th>Cys</th>\n",
       "      <th>CKD_EPI_Cr</th>\n",
       "      <th>CKD_EPI_Cys</th>\n",
       "      <th>CKD_EPI_Cr_Cys</th>\n",
       "      <th>FAS_cr</th>\n",
       "      <th>FAS_Cys</th>\n",
       "      <th>FAS_Cr_Cys</th>\n",
       "      <th>svr_rbf_global</th>\n",
       "    </tr>\n",
       "  </thead>\n",
       "  <tbody>\n",
       "    <tr>\n",
       "      <th>0</th>\n",
       "      <td>85</td>\n",
       "      <td>34</td>\n",
       "      <td>1</td>\n",
       "      <td>76.67</td>\n",
       "      <td>1.161765</td>\n",
       "      <td>1.14</td>\n",
       "      <td>81.553927</td>\n",
       "      <td>72.510852</td>\n",
       "      <td>75.913649</td>\n",
       "      <td>83.123544</td>\n",
       "      <td>77.180702</td>\n",
       "      <td>80.041966</td>\n",
       "      <td>79.626876</td>\n",
       "    </tr>\n",
       "    <tr>\n",
       "      <th>1</th>\n",
       "      <td>86</td>\n",
       "      <td>60</td>\n",
       "      <td>2</td>\n",
       "      <td>15.07</td>\n",
       "      <td>1.432127</td>\n",
       "      <td>2.00</td>\n",
       "      <td>39.761190</td>\n",
       "      <td>28.864466</td>\n",
       "      <td>32.625106</td>\n",
       "      <td>41.196016</td>\n",
       "      <td>869.301680</td>\n",
       "      <td>945.500992</td>\n",
       "      <td>46.753795</td>\n",
       "    </tr>\n",
       "    <tr>\n",
       "      <th>2</th>\n",
       "      <td>618</td>\n",
       "      <td>47</td>\n",
       "      <td>2</td>\n",
       "      <td>148.20</td>\n",
       "      <td>0.497681</td>\n",
       "      <td>0.98</td>\n",
       "      <td>115.802372</td>\n",
       "      <td>78.417273</td>\n",
       "      <td>96.761765</td>\n",
       "      <td>138.689981</td>\n",
       "      <td>620.929771</td>\n",
       "      <td>778.646113</td>\n",
       "      <td>87.179368</td>\n",
       "    </tr>\n",
       "    <tr>\n",
       "      <th>3</th>\n",
       "      <td>617</td>\n",
       "      <td>47</td>\n",
       "      <td>2</td>\n",
       "      <td>142.20</td>\n",
       "      <td>0.251103</td>\n",
       "      <td>0.64</td>\n",
       "      <td>145.031806</td>\n",
       "      <td>114.766346</td>\n",
       "      <td>144.009295</td>\n",
       "      <td>274.881043</td>\n",
       "      <td>950.798713</td>\n",
       "      <td>1302.813935</td>\n",
       "      <td>100.871594</td>\n",
       "    </tr>\n",
       "    <tr>\n",
       "      <th>4</th>\n",
       "      <td>598</td>\n",
       "      <td>45</td>\n",
       "      <td>2</td>\n",
       "      <td>138.00</td>\n",
       "      <td>0.721638</td>\n",
       "      <td>0.72</td>\n",
       "      <td>101.179886</td>\n",
       "      <td>109.086440</td>\n",
       "      <td>105.972962</td>\n",
       "      <td>97.985812</td>\n",
       "      <td>603.681722</td>\n",
       "      <td>555.341141</td>\n",
       "      <td>103.606253</td>\n",
       "    </tr>\n",
       "  </tbody>\n",
       "</table>\n",
       "</div>"
      ],
      "text/plain": [
       "    id  age  sex    rGFR       Scr   Cys  CKD_EPI_Cr  CKD_EPI_Cys  \\\n",
       "0   85   34    1   76.67  1.161765  1.14   81.553927    72.510852   \n",
       "1   86   60    2   15.07  1.432127  2.00   39.761190    28.864466   \n",
       "2  618   47    2  148.20  0.497681  0.98  115.802372    78.417273   \n",
       "3  617   47    2  142.20  0.251103  0.64  145.031806   114.766346   \n",
       "4  598   45    2  138.00  0.721638  0.72  101.179886   109.086440   \n",
       "\n",
       "   CKD_EPI_Cr_Cys      FAS_cr     FAS_Cys   FAS_Cr_Cys  svr_rbf_global  \n",
       "0       75.913649   83.123544   77.180702    80.041966       79.626876  \n",
       "1       32.625106   41.196016  869.301680   945.500992       46.753795  \n",
       "2       96.761765  138.689981  620.929771   778.646113       87.179368  \n",
       "3      144.009295  274.881043  950.798713  1302.813935      100.871594  \n",
       "4      105.972962   97.985812  603.681722   555.341141      103.606253  "
      ]
     },
     "execution_count": 48,
     "metadata": {},
     "output_type": "execute_result"
    }
   ],
   "source": [
    "df.head()"
   ]
  },
  {
   "cell_type": "code",
   "execution_count": 49,
   "metadata": {},
   "outputs": [
    {
     "data": {
      "text/html": [
       "<div>\n",
       "<style scoped>\n",
       "    .dataframe tbody tr th:only-of-type {\n",
       "        vertical-align: middle;\n",
       "    }\n",
       "\n",
       "    .dataframe tbody tr th {\n",
       "        vertical-align: top;\n",
       "    }\n",
       "\n",
       "    .dataframe thead th {\n",
       "        text-align: right;\n",
       "    }\n",
       "</style>\n",
       "<table border=\"1\" class=\"dataframe\">\n",
       "  <thead>\n",
       "    <tr style=\"text-align: right;\">\n",
       "      <th></th>\n",
       "      <th>id</th>\n",
       "      <th>age</th>\n",
       "      <th>sex</th>\n",
       "      <th>rGFR</th>\n",
       "      <th>Scr</th>\n",
       "      <th>Cys</th>\n",
       "      <th>CKD_EPI_Cr</th>\n",
       "      <th>CKD_EPI_Cys</th>\n",
       "      <th>CKD_EPI_Cr_Cys</th>\n",
       "      <th>FAS_cr</th>\n",
       "      <th>FAS_Cys</th>\n",
       "      <th>FAS_Cr_Cys</th>\n",
       "      <th>svr_rbf_global</th>\n",
       "    </tr>\n",
       "  </thead>\n",
       "  <tbody>\n",
       "    <tr>\n",
       "      <th>1192</th>\n",
       "      <td>474</td>\n",
       "      <td>85</td>\n",
       "      <td>0</td>\n",
       "      <td>5.888959</td>\n",
       "      <td>5.083710</td>\n",
       "      <td>4.40</td>\n",
       "      <td>9.567794</td>\n",
       "      <td>9.833175</td>\n",
       "      <td>9.267932</td>\n",
       "      <td>11.033770</td>\n",
       "      <td>1030.006841</td>\n",
       "      <td>928.110937</td>\n",
       "      <td>5.988918</td>\n",
       "    </tr>\n",
       "    <tr>\n",
       "      <th>1193</th>\n",
       "      <td>473</td>\n",
       "      <td>37</td>\n",
       "      <td>1</td>\n",
       "      <td>5.657182</td>\n",
       "      <td>7.481900</td>\n",
       "      <td>4.35</td>\n",
       "      <td>8.401176</td>\n",
       "      <td>12.101437</td>\n",
       "      <td>9.421878</td>\n",
       "      <td>12.907148</td>\n",
       "      <td>20.226667</td>\n",
       "      <td>15.758438</td>\n",
       "      <td>5.757339</td>\n",
       "    </tr>\n",
       "    <tr>\n",
       "      <th>1194</th>\n",
       "      <td>469</td>\n",
       "      <td>50</td>\n",
       "      <td>1</td>\n",
       "      <td>5.242000</td>\n",
       "      <td>6.782805</td>\n",
       "      <td>4.14</td>\n",
       "      <td>8.633498</td>\n",
       "      <td>12.267205</td>\n",
       "      <td>9.698851</td>\n",
       "      <td>12.618343</td>\n",
       "      <td>209.976251</td>\n",
       "      <td>168.471123</td>\n",
       "      <td>5.850864</td>\n",
       "    </tr>\n",
       "    <tr>\n",
       "      <th>1195</th>\n",
       "      <td>494</td>\n",
       "      <td>29</td>\n",
       "      <td>1</td>\n",
       "      <td>3.283644</td>\n",
       "      <td>16.142534</td>\n",
       "      <td>6.16</td>\n",
       "      <td>3.507428</td>\n",
       "      <td>7.872502</td>\n",
       "      <td>4.824107</td>\n",
       "      <td>5.982332</td>\n",
       "      <td>14.283442</td>\n",
       "      <td>8.432769</td>\n",
       "      <td>3.383266</td>\n",
       "    </tr>\n",
       "    <tr>\n",
       "      <th>1196</th>\n",
       "      <td>318</td>\n",
       "      <td>65</td>\n",
       "      <td>2</td>\n",
       "      <td>0.000000</td>\n",
       "      <td>2.635747</td>\n",
       "      <td>1.98</td>\n",
       "      <td>18.361775</td>\n",
       "      <td>28.671914</td>\n",
       "      <td>22.210199</td>\n",
       "      <td>21.072580</td>\n",
       "      <td>1097.603131</td>\n",
       "      <td>857.707383</td>\n",
       "      <td>32.461440</td>\n",
       "    </tr>\n",
       "  </tbody>\n",
       "</table>\n",
       "</div>"
      ],
      "text/plain": [
       "       id  age  sex      rGFR        Scr   Cys  CKD_EPI_Cr  CKD_EPI_Cys  \\\n",
       "1192  474   85    0  5.888959   5.083710  4.40    9.567794     9.833175   \n",
       "1193  473   37    1  5.657182   7.481900  4.35    8.401176    12.101437   \n",
       "1194  469   50    1  5.242000   6.782805  4.14    8.633498    12.267205   \n",
       "1195  494   29    1  3.283644  16.142534  6.16    3.507428     7.872502   \n",
       "1196  318   65    2  0.000000   2.635747  1.98   18.361775    28.671914   \n",
       "\n",
       "      CKD_EPI_Cr_Cys     FAS_cr      FAS_Cys  FAS_Cr_Cys  svr_rbf_global  \n",
       "1192        9.267932  11.033770  1030.006841  928.110937        5.988918  \n",
       "1193        9.421878  12.907148    20.226667   15.758438        5.757339  \n",
       "1194        9.698851  12.618343   209.976251  168.471123        5.850864  \n",
       "1195        4.824107   5.982332    14.283442    8.432769        3.383266  \n",
       "1196       22.210199  21.072580  1097.603131  857.707383       32.461440  "
      ]
     },
     "execution_count": 49,
     "metadata": {},
     "output_type": "execute_result"
    }
   ],
   "source": [
    "df.tail()"
   ]
  },
  {
   "cell_type": "markdown",
   "metadata": {},
   "source": [
    "其实看上去还行。为啥均方误差那么大？"
   ]
  },
  {
   "cell_type": "code",
   "execution_count": 46,
   "metadata": {},
   "outputs": [
    {
     "data": {
      "image/png": "[encoded data removed]",
      "text/plain": [
       "<Figure size 432x288 with 1 Axes>"
      ]
     },
     "metadata": {},
     "output_type": "display_data"
    }
   ],
   "source": [
    "plt.plot(df['svr_rbf_global'], df['rGFR'],'o')\n",
    "plt.show()"
   ]
  },
  {
   "cell_type": "code",
   "execution_count": 47,
   "metadata": {},
   "outputs": [
    {
     "data": {
      "image/png": "[encoded data removed]",
      "text/plain": [
       "<Figure size 432x288 with 1 Axes>"
      ]
     },
     "metadata": {},
     "output_type": "display_data"
    }
   ],
   "source": [
    "plt.plot(df['CKD_EPI_Cr'], df['rGFR'],'o')\n",
    "plt.show()"
   ]
  },
  {
   "cell_type": "markdown",
   "metadata": {},
   "source": [
    "先算了个sum可还行。现在纠正过来了。既然其实它效果已经不错了，但是再试试其他变换方法能不能更佳。首先是变换，然后是各个类别（主要是性别。那些\n",
    "本身也进入连续公式算的项应该是为了分段回归压制非线性，不过我这本来就是非线性的就没必要了）分别拟合。"
   ]
  },
  {
   "cell_type": "code",
   "execution_count": 59,
   "metadata": {},
   "outputs": [],
   "source": [
    "dfp = df.loc[:df.shape[0]-1] # last record is hard to deal"
   ]
  },
  {
   "cell_type": "code",
   "execution_count": 62,
   "metadata": {},
   "outputs": [],
   "source": [
    "yp = np.log(dfp['rGFR'])\n",
    "Xp = np.stack([dfp['age'], np.log(dfp['Scr']), np.log(dfp['Cys'])], 1)"
   ]
  },
  {
   "cell_type": "code",
   "execution_count": 64,
   "metadata": {},
   "outputs": [],
   "source": [
    "svr_rbf_log = SVR(kernel='rbf', C=1e3, gamma=0.1)"
   ]
  },
  {
   "cell_type": "code",
   "execution_count": 65,
   "metadata": {},
   "outputs": [],
   "source": [
    "%time\n",
    "y_rbf_log = svr_rbf_log.fit(Xp, yp).predict(Xp)"
   ]
  },
  {
   "cell_type": "code",
   "execution_count": 69,
   "metadata": {},
   "outputs": [
    {
     "data": {
      "text/plain": [
       "162.78740655225513"
      ]
     },
     "execution_count": 69,
     "metadata": {},
     "output_type": "execute_result"
    }
   ],
   "source": [
    "np.mean((np.exp(y_rbf_log) - dfp['rGFR'])**2)"
   ]
  },
  {
   "cell_type": "markdown",
   "metadata": {},
   "source": [
    "162对181，效果稍微好一些。所以下面仍然会使用此变换，反正数据是一样的（除了要idxs index外）。下面把先把sex直接加进来（作为某种虚拟变量）\n",
    "回归，以及分别回归（使用两套系数）。"
   ]
  },
  {
   "cell_type": "code",
   "execution_count": 77,
   "metadata": {},
   "outputs": [],
   "source": [
    "yp = np.log(dfp['rGFR'])\n",
    "Xp_sex = np.stack([dfp['age'], np.log(dfp['Scr']), np.log(dfp['Cys']), dfp['sex']], 1)"
   ]
  },
  {
   "cell_type": "code",
   "execution_count": 78,
   "metadata": {},
   "outputs": [],
   "source": [
    "svr_rbf_log_sex = SVR(kernel='rbf', C=1e3, gamma=0.1)"
   ]
  },
  {
   "cell_type": "code",
   "execution_count": 82,
   "metadata": {},
   "outputs": [
    {
     "name": "stdout",
     "output_type": "stream",
     "text": [
      "Wall time: 8.25 s\n"
     ]
    }
   ],
   "source": [
    "%%time\n",
    "y_rbf_log_sex = svr_rbf_log_sex.fit(Xp_sex, yp).predict(Xp_sex)"
   ]
  },
  {
   "cell_type": "code",
   "execution_count": 83,
   "metadata": {},
   "outputs": [
    {
     "data": {
      "text/plain": [
       "130.00215220997177"
      ]
     },
     "execution_count": 83,
     "metadata": {},
     "output_type": "execute_result"
    }
   ],
   "source": [
    "np.mean((np.exp(y_rbf_log_sex) - dfp['rGFR'])**2)"
   ]
  },
  {
   "cell_type": "markdown",
   "metadata": {},
   "source": [
    "130对162，仅仅作为数值虚拟变量就能极大的改善估计。下面试试使用两套系数再合起来的方法。"
   ]
  },
  {
   "cell_type": "code",
   "execution_count": 85,
   "metadata": {},
   "outputs": [],
   "source": [
    "dfp_women = dfp[dfp['sex'] == 2]\n",
    "yp_women = np.log(dfp_women['rGFR'])\n",
    "Xp_sex_women = np.stack([dfp_women['age'], np.log(dfp_women['Scr']), np.log(dfp_women['Cys']), dfp_women['sex']], 1)\n",
    "\n",
    "dfp_men = dfp[dfp['sex'] == 1]\n",
    "yp_men = np.log(dfp_men['rGFR'])\n",
    "Xp_sex_men = np.stack([dfp_men['age'], np.log(dfp_men['Scr']), np.log(dfp_men['Cys']), dfp_men['sex']], 1)"
   ]
  },
  {
   "cell_type": "code",
   "execution_count": 86,
   "metadata": {},
   "outputs": [
    {
     "name": "stdout",
     "output_type": "stream",
     "text": [
      "Wall time: 3.24 s\n"
     ]
    }
   ],
   "source": [
    "%%time\n",
    "y_rbf_log_sex_women = svr_rbf_log_sex.fit(Xp_sex_women, yp_women).predict(Xp_sex_women)\n",
    "y_rbf_log_sex_men = svr_rbf_log_sex.fit(Xp_sex_men, yp_men).predict(Xp_sex_men)\n"
   ]
  },
  {
   "cell_type": "code",
   "execution_count": 89,
   "metadata": {},
   "outputs": [
    {
     "data": {
      "text/plain": [
       "711"
      ]
     },
     "execution_count": 89,
     "metadata": {},
     "output_type": "execute_result"
    }
   ],
   "source": [
    "len(y_rbf_log_sex_men)"
   ]
  },
  {
   "cell_type": "code",
   "execution_count": 94,
   "metadata": {},
   "outputs": [
    {
     "data": {
      "text/plain": [
       "126.07120422471378"
      ]
     },
     "execution_count": 94,
     "metadata": {},
     "output_type": "execute_result"
    }
   ],
   "source": [
    "(np.sum((np.exp(yp_women) - np.exp(y_rbf_log_sex_women))**2) + np.sum((np.exp(yp_men) - np.exp(y_rbf_log_sex_men))**2))/(len(y_rbf_log_sex_women)+len(y_rbf_log_sex_men))"
   ]
  },
  {
   "cell_type": "code",
   "execution_count": 95,
   "metadata": {},
   "outputs": [
    {
     "data": {
      "text/plain": [
       "[<matplotlib.lines.Line2D at 0x2bf43eac5c0>]"
      ]
     },
     "execution_count": 95,
     "metadata": {},
     "output_type": "execute_result"
    },
    {
     "data": {
      "image/png": "[encoded data removed]",
      "text/plain": [
       "<Figure size 432x288 with 1 Axes>"
      ]
     },
     "metadata": {},
     "output_type": "display_data"
    }
   ],
   "source": [
    "plt.plot(np.exp(yp_women), np.exp(y_rbf_log_sex_women), 'o')"
   ]
  },
  {
   "cell_type": "code",
   "execution_count": 96,
   "metadata": {},
   "outputs": [
    {
     "data": {
      "text/plain": [
       "[<matplotlib.lines.Line2D at 0x2bf43f0b320>]"
      ]
     },
     "execution_count": 96,
     "metadata": {},
     "output_type": "execute_result"
    },
    {
     "data": {
      "image/png": "[encoded data removed]",
      "text/plain": [
       "<Figure size 432x288 with 1 Axes>"
      ]
     },
     "metadata": {},
     "output_type": "display_data"
    }
   ],
   "source": [
    "plt.plot(np.exp(yp_men), np.exp(y_rbf_log_sex_men), 'o')"
   ]
  },
  {
   "cell_type": "markdown",
   "metadata": {},
   "source": [
    "126对130，比较用虚拟变量略有改善，要从统计观点估计就拒绝这个修改了。下面我们要打开黑箱，重现这个结果。"
   ]
  },
  {
   "cell_type": "code",
   "execution_count": 97,
   "metadata": {},
   "outputs": [],
   "source": [
    "#svr_rbf_log_sex.predict??"
   ]
  },
  {
   "cell_type": "code",
   "execution_count": 99,
   "metadata": {},
   "outputs": [],
   "source": [
    "#svr_rbf_log_sex._dense_predict??"
   ]
  },
  {
   "cell_type": "code",
   "execution_count": 109,
   "metadata": {},
   "outputs": [
    {
     "data": {
      "text/plain": [
       "(1, 472)"
      ]
     },
     "execution_count": 109,
     "metadata": {},
     "output_type": "execute_result"
    }
   ],
   "source": [
    "svr_rbf_log_sex.dual_coef_.shape"
   ]
  },
  {
   "cell_type": "markdown",
   "metadata": {},
   "source": [
    "这就是SVR的系数了，怎么用的暂时不管，反正也没法写成简洁的形式。472个呢。SVM也是训练集全体投票（投票权重在训练时决定，\n",
    "然后预测时还要算相似度，最后决定结果。）.下面条调调C和gamma,epsilon 三个参数。\n",
    "\n",
    "gamma : float, optional (default=’auto’)\n",
    "Kernel coefficient for ‘rbf’, ‘poly’ and ‘sigmoid’.\n",
    "\n",
    "Current default is ‘auto’ which uses 1 / n_features, if gamma='scale' is passed then it uses 1 / (n_features * X.std()) as value of gamma. The current default of gamma, ‘auto’, will change to ‘scale’ in version 0.22. ‘auto_deprecated’, a deprecated version of ‘auto’ is used as a default indicating that no explicit value of gamma was passed.\n",
    "\n",
    "C : float, optional (default=1.0)\n",
    "Penalty parameter C of the error term.\n",
    "\n",
    "epsilon : float, optional (default=0.1)\n",
    "Epsilon in the epsilon-SVR model. It specifies the epsilon-tube within which no penalty is associated in the training loss function with points predicted within a distance epsilon from the actual value.\n",
    "\n"
   ]
  },
  {
   "cell_type": "code",
   "execution_count": 111,
   "metadata": {},
   "outputs": [
    {
     "name": "stdout",
     "output_type": "stream",
     "text": [
      "0.05 500 0.05 163.5014691717553\n",
      "0.05 500 0.1 160.74954942498226\n",
      "0.05 500 0.15 165.11851481919567\n",
      "0.05 1000.0 0.05 158.57043750068104\n",
      "0.05 1000.0 0.1 156.9389731744231\n",
      "0.05 1000.0 0.15 161.80194896071185\n",
      "0.05 1500 0.05 155.91019535658953\n",
      "0.05 1500 0.1 155.0960083981905\n",
      "0.05 1500 0.15 159.7594070253459\n",
      "0.1 500 0.05 135.07693385998786\n",
      "0.1 500 0.1 135.78478707756474\n",
      "0.1 500 0.15 143.89118422502185\n",
      "0.1 1000.0 0.05 127.75251284409454\n",
      "0.1 1000.0 0.1 130.00215220997177\n",
      "0.1 1000.0 0.15 139.75886340110495\n",
      "0.1 1500 0.05 123.57858467128501\n",
      "0.1 1500 0.1 125.4467938601781\n",
      "0.1 1500 0.15 138.0304615593653\n",
      "0.15 500 0.05 108.86390690514874\n",
      "0.15 500 0.1 112.98069315939864\n",
      "0.15 500 0.15 128.04854800263504\n",
      "0.15 1000.0 0.05 101.73182859782712\n",
      "0.15 1000.0 0.1 108.5984201354754\n",
      "0.15 1000.0 0.15 124.61831373148719\n",
      "0.15 1500 0.05 97.86829456754356\n",
      "0.15 1500 0.1 105.25699503485419\n",
      "0.15 1500 0.15 121.11443685186188\n"
     ]
    }
   ],
   "source": [
    "mat = np.empty([3,3,3])\n",
    "for i,gamma in enumerate([0.05,0.1,0.15]):\n",
    "    for j,C in enumerate([500,1e3,1500]):\n",
    "        for k,epsilon in enumerate([0.05,0.1,0.15]):\n",
    "            svr_rbf_log_sex_test = SVR(kernel='rbf', C=C, gamma=gamma, epsilon=epsilon)\n",
    "            y_rbf_log_sex_test = svr_rbf_log_sex_test.fit(Xp_sex, yp).predict(Xp_sex)\n",
    "            loss = np.mean((np.exp(y_rbf_log_sex_test) - dfp['rGFR'])**2)\n",
    "            print(gamma,C,epsilon,loss)\n",
    "            mat[i,j,k] = loss"
   ]
  },
  {
   "cell_type": "markdown",
   "metadata": {},
   "source": [
    "0.15 500 0.05 108.86390690514874\n",
    "0.15 1000.0 0.05 101.73182859782712\n",
    "0.15 1000.0 0.1 108.5984201354754\n",
    "0.15 1500 0.05 97.86829456754356\n",
    "0.15 1500 0.1 105.25699503485419\n",
    "\n",
    "几个参数比较好，可以看出全是0.15，500，1000，1500不定,0.05或0.1较好。所以接下来取\n",
    "`[0.125,0.15,0.175],[500,1000,1500],[0.05,0.075,0.01]`"
   ]
  },
  {
   "cell_type": "code",
   "execution_count": 117,
   "metadata": {},
   "outputs": [
    {
     "name": "stdout",
     "output_type": "stream",
     "text": [
      "0.125 500 0.05 120.80409948739032\n",
      "0.125 500 0.075 121.22817051083581\n",
      "0.125 500 0.1 122.97060684005577\n",
      "0.125 1000 0.05 113.73906001662814\n",
      "0.125 1000 0.075 114.33935255147907\n",
      "0.125 1000 0.1 117.47037204088446\n",
      "0.125 1500 0.05 108.36317004208134\n",
      "0.125 1500 0.075 109.95028143790405\n",
      "0.125 1500 0.1 113.19806063064705\n",
      "0.15 500 0.05 108.86390690514874\n",
      "0.15 500 0.075 110.29891879135492\n",
      "0.15 500 0.1 112.98069315939864\n",
      "0.15 1000 0.05 101.73182859782712\n",
      "0.15 1000 0.075 103.61304023626111\n",
      "0.15 1000 0.1 108.5984201354754\n",
      "0.15 1500 0.05 97.86829456754356\n",
      "0.15 1500 0.075 100.00629826610317\n",
      "0.15 1500 0.1 105.25699503485419\n",
      "0.175 500 0.05 100.67034111212213\n",
      "0.175 500 0.075 102.61176982452078\n",
      "0.175 500 0.1 106.86623335352171\n",
      "0.175 1000 0.05 93.94897104474906\n",
      "0.175 1000 0.075 95.8871588852174\n",
      "0.175 1000 0.1 101.25178266026693\n",
      "0.175 1500 0.05 90.04858625120885\n",
      "0.175 1500 0.075 92.95609511188381\n",
      "0.175 1500 0.1 98.1649643119023\n"
     ]
    }
   ],
   "source": [
    "mat2 = np.empty([3,3,3])\n",
    "for i,gamma in enumerate([0.125,0.15,0.175]):\n",
    "    for j,C in enumerate([500,1000,1500]):\n",
    "        for k,epsilon in enumerate([0.05,0.075,0.1]):\n",
    "            svr_rbf_log_sex_test = SVR(kernel='rbf', C=C, gamma=gamma, epsilon=epsilon)\n",
    "            y_rbf_log_sex_test = svr_rbf_log_sex_test.fit(Xp_sex, yp).predict(Xp_sex)\n",
    "            loss = np.mean((np.exp(y_rbf_log_sex_test) - dfp['rGFR'])**2)\n",
    "            print(gamma,C,epsilon,loss)\n",
    "            mat2[i,j,k] = loss"
   ]
  },
  {
   "cell_type": "code",
   "execution_count": 118,
   "metadata": {},
   "outputs": [
    {
     "data": {
      "text/plain": [
       "90.04858625120885"
      ]
     },
     "execution_count": 118,
     "metadata": {},
     "output_type": "execute_result"
    }
   ],
   "source": [
    "np.min(mat2)"
   ]
  },
  {
   "cell_type": "markdown",
   "metadata": {},
   "source": [
    "较优的有：\n",
    "```\n",
    "0.15 1500 0.05 97.86829456754356\n",
    "0.175 1000 0.05 93.94897104474906\n",
    "0.175 1000 0.075 95.8871588852174\n",
    "0.175 1500 0.05 90.04858625120885\n",
    "0.175 1500 0.075 92.95609511188381\n",
    "0.175 1500 0.1 98.1649643119023\n",
    "```"
   ]
  },
  {
   "cell_type": "code",
   "execution_count": 119,
   "metadata": {},
   "outputs": [
    {
     "name": "stdout",
     "output_type": "stream",
     "text": [
      "0.15 1000 0.025 103.85545083449827\n",
      "0.15 1000 0.05 101.73182859782712\n",
      "0.15 1000 0.075 103.61304023626111\n",
      "0.15 1500 0.025 99.82415798934058\n",
      "0.15 1500 0.05 97.86829456754356\n",
      "0.15 1500 0.075 100.00629826610317\n",
      "0.15 2000 0.025 96.82249880078206\n",
      "0.15 2000 0.05 94.96218222084713\n",
      "0.15 2000 0.075 97.55295387671178\n",
      "0.175 1000 0.025 95.74443139621047\n",
      "0.175 1000 0.05 93.94897104474906\n",
      "0.175 1000 0.075 95.8871588852174\n",
      "0.175 1500 0.025 90.96168922834703\n",
      "0.175 1500 0.05 90.04858625120885\n",
      "0.175 1500 0.075 92.95609511188381\n",
      "0.175 2000 0.025 87.87493439293708\n",
      "0.175 2000 0.05 87.89998861162947\n",
      "0.175 2000 0.075 91.20761749901841\n",
      "0.2 1000 0.025 87.70479193511187\n",
      "0.2 1000 0.05 87.48482817314043\n",
      "0.2 1000 0.075 90.7057131053799\n",
      "0.2 1500 0.025 84.77761397479415\n",
      "0.2 1500 0.05 84.60985893231353\n",
      "0.2 1500 0.075 88.16413370561965\n",
      "0.2 2000 0.025 82.76195138947976\n",
      "0.2 2000 0.05 82.63466644214309\n",
      "0.2 2000 0.075 85.92742542015087\n"
     ]
    }
   ],
   "source": [
    "mat3 = np.empty([3,3,3])\n",
    "for i,gamma in enumerate([0.15,0.175,0.2]):\n",
    "    for j,C in enumerate([1000,1500,2000]):\n",
    "        for k,epsilon in enumerate([0.025,0.05,0.075]):\n",
    "            svr_rbf_log_sex_test = SVR(kernel='rbf', C=C, gamma=gamma, epsilon=epsilon)\n",
    "            y_rbf_log_sex_test = svr_rbf_log_sex_test.fit(Xp_sex, yp).predict(Xp_sex)\n",
    "            loss = np.mean((np.exp(y_rbf_log_sex_test) - dfp['rGFR'])**2)\n",
    "            print(gamma,C,epsilon,loss)\n",
    "            mat3[i,j,k] = loss"
   ]
  },
  {
   "cell_type": "markdown",
   "metadata": {},
   "source": [
    "话说回来这是train集上测train集的性能，感觉有误导性。。虽然SVM相对不容易overfit一点。根据\n",
    "https://datascience.stackexchange.com/questions/26640/how-to-check-for-overfitting-with-svm-and-iris-data\n",
    "进行交叉验证吧。"
   ]
  },
  {
   "cell_type": "code",
   "execution_count": 121,
   "metadata": {},
   "outputs": [],
   "source": [
    "from sklearn.model_selection import train_test_split\n"
   ]
  },
  {
   "cell_type": "code",
   "execution_count": 122,
   "metadata": {},
   "outputs": [],
   "source": [
    "X_train, X_test, y_train, y_test = train_test_split(Xp_sex, yp, test_size=0.2, random_state=51)"
   ]
  },
  {
   "cell_type": "code",
   "execution_count": 124,
   "metadata": {},
   "outputs": [
    {
     "name": "stdout",
     "output_type": "stream",
     "text": [
      "gamma = 0.05 C = 500 epsilon = 0.05 train loss =153.096491622681 test loss = 282.3586892331305\n",
      "gamma = 0.05 C = 500 epsilon = 0.1 train loss =150.66079135899145 test loss = 265.7422410806212\n",
      "gamma = 0.05 C = 500 epsilon = 0.15 train loss =153.6824096509939 test loss = 308.0053957206774\n",
      "gamma = 0.05 C = 1000.0 epsilon = 0.05 train loss =146.37234550793264 test loss = 314.3566946761014\n",
      "gamma = 0.05 C = 1000.0 epsilon = 0.1 train loss =145.9940950372049 test loss = 298.78647989193576\n",
      "gamma = 0.05 C = 1000.0 epsilon = 0.15 train loss =150.75674101860525 test loss = 324.29180415093515\n",
      "gamma = 0.05 C = 1500 epsilon = 0.05 train loss =142.46273094321245 test loss = 327.9664699966334\n",
      "gamma = 0.05 C = 1500 epsilon = 0.1 train loss =142.98368529434268 test loss = 330.68238998963716\n",
      "gamma = 0.05 C = 1500 epsilon = 0.15 train loss =147.72123009611317 test loss = 349.80456938635194\n",
      "gamma = 0.1 C = 500 epsilon = 0.05 train loss =122.10574251945994 test loss = 370.2185494331943\n",
      "gamma = 0.1 C = 500 epsilon = 0.1 train loss =120.32371026713739 test loss = 425.20472868825277\n",
      "gamma = 0.1 C = 500 epsilon = 0.15 train loss =129.41524816507965 test loss = 403.5926738865904\n",
      "gamma = 0.1 C = 1000.0 epsilon = 0.05 train loss =114.86779746019924 test loss = 471.06854099242605\n",
      "gamma = 0.1 C = 1000.0 epsilon = 0.1 train loss =115.16711912965089 test loss = 512.1087456919126\n",
      "gamma = 0.1 C = 1000.0 epsilon = 0.15 train loss =127.39392816851162 test loss = 463.88380876190297\n",
      "gamma = 0.1 C = 1500 epsilon = 0.05 train loss =110.46521461073753 test loss = 569.8411507273258\n",
      "gamma = 0.1 C = 1500 epsilon = 0.1 train loss =112.01303220421659 test loss = 545.0207846514601\n",
      "gamma = 0.1 C = 1500 epsilon = 0.15 train loss =124.83509657414089 test loss = 506.0375522488342\n",
      "gamma = 0.15 C = 500 epsilon = 0.05 train loss =96.51468554568251 test loss = 700.7221374307123\n",
      "gamma = 0.15 C = 500 epsilon = 0.1 train loss =101.38733561115058 test loss = 562.5114060331795\n",
      "gamma = 0.15 C = 500 epsilon = 0.15 train loss =116.41609902250528 test loss = 481.01166036548017\n",
      "gamma = 0.15 C = 1000.0 epsilon = 0.05 train loss =88.58130062965495 test loss = 958.8689133908777\n",
      "gamma = 0.15 C = 1000.0 epsilon = 0.1 train loss =95.0829617325868 test loss = 692.2766209132454\n",
      "gamma = 0.15 C = 1000.0 epsilon = 0.15 train loss =112.63541074224915 test loss = 647.0946931769117\n",
      "gamma = 0.15 C = 1500 epsilon = 0.05 train loss =84.51992030042248 test loss = 1152.7974307050106\n",
      "gamma = 0.15 C = 1500 epsilon = 0.1 train loss =92.32209725598287 test loss = 907.2111873982575\n",
      "gamma = 0.15 C = 1500 epsilon = 0.15 train loss =111.65473698417604 test loss = 819.7846355804336\n"
     ]
    }
   ],
   "source": [
    "mat = np.empty([3,3,3,2])\n",
    "for i,gamma in enumerate([0.05,0.1,0.15]):\n",
    "    for j,C in enumerate([500,1e3,1500]):\n",
    "        for k,epsilon in enumerate([0.05,0.1,0.15]):\n",
    "            svr_rbf_log_sex_test = SVR(kernel='rbf', C=C, gamma=gamma, epsilon=epsilon)\n",
    "            svr_rbf_log_sex_test.fit(X_train, y_train)\n",
    "            \n",
    "            y_train_pred = svr_rbf_log_sex_test.predict(X_train)\n",
    "            y_test_pred =  svr_rbf_log_sex_test.predict(X_test)\n",
    "            \n",
    "            train_loss = np.mean((np.exp(y_train) - np.exp(y_train_pred))**2)\n",
    "            test_loss = np.mean((np.exp(y_test) - np.exp(y_test_pred))**2)\n",
    "            \n",
    "            print('gamma = {} C = {} epsilon = {} train loss ={} test loss = {}'.format(gamma, C, epsilon, train_loss, test_loss))\n",
    "            mat[i,j,k,0] = train_loss\n",
    "            mat[i,j,k,1] = test_loss"
   ]
  },
  {
   "cell_type": "code",
   "execution_count": 160,
   "metadata": {},
   "outputs": [],
   "source": [
    "sortidx = np.argsort(mat[:,:,:,0].flatten())"
   ]
  },
  {
   "cell_type": "code",
   "execution_count": 163,
   "metadata": {},
   "outputs": [
    {
     "data": {
      "text/plain": [
       "Text(0,0.5,'test loss')"
      ]
     },
     "execution_count": 163,
     "metadata": {},
     "output_type": "execute_result"
    },
    {
     "data": {
      "image/png": "[encoded data removed]",
      "text/plain": [
       "<Figure size 432x288 with 1 Axes>"
      ]
     },
     "metadata": {},
     "output_type": "display_data"
    }
   ],
   "source": [
    "plt.plot(mat[:,:,:,0].flatten()[sortidx], mat[:,:,:,1].flatten()[sortidx])\n",
    "plt.xlabel('train loss')\n",
    "plt.ylabel('test loss')\n",
    "#plt.legend()"
   ]
  },
  {
   "cell_type": "markdown",
   "metadata": {},
   "source": [
    "果然。。取到最小train loss的反而取到了最大的test loss.test上性能比较好的有：\n",
    "\n",
    "```\n",
    "gamma = 0.05 C = 500 epsilon = 0.05 train loss =153.096491622681 test loss = 282.3586892331305\n",
    "gamma = 0.05 C = 500 epsilon = 0.1 train loss =150.66079135899145 test loss = 265.7422410806212\n",
    "gamma = 0.05 C = 500 epsilon = 0.15 train loss =153.6824096509939 test loss = 308.0053957206774\n",
    "gamma = 0.05 C = 1000.0 epsilon = 0.05 train loss =146.37234550793264 test loss = 314.3566946761014\n",
    "gamma = 0.05 C = 1000.0 epsilon = 0.1 train loss =145.9940950372049 test loss = 298.78647989193576\n",
    "```"
   ]
  },
  {
   "cell_type": "code",
   "execution_count": 125,
   "metadata": {},
   "outputs": [
    {
     "name": "stdout",
     "output_type": "stream",
     "text": [
      "gamma = 0.025 C = 500 epsilon = 0.05 train loss =166.05505990007327 test loss = 266.7965528280521\n",
      "gamma = 0.025 C = 500 epsilon = 0.1 train loss =167.18276718581097 test loss = 262.5433988082249\n",
      "gamma = 0.025 C = 500 epsilon = 0.15 train loss =169.45713940312336 test loss = 280.2704167195471\n",
      "gamma = 0.025 C = 750 epsilon = 0.05 train loss =164.83471127029975 test loss = 269.3317144813987\n",
      "gamma = 0.025 C = 750 epsilon = 0.1 train loss =164.17954655751467 test loss = 258.9617448446673\n",
      "gamma = 0.025 C = 750 epsilon = 0.15 train loss =167.29561757289366 test loss = 288.3668473369197\n",
      "gamma = 0.025 C = 1000 epsilon = 0.05 train loss =163.88356502900155 test loss = 273.8345647241228\n",
      "gamma = 0.025 C = 1000 epsilon = 0.1 train loss =162.86666352165636 test loss = 260.327989804144\n",
      "gamma = 0.025 C = 1000 epsilon = 0.15 train loss =166.11343739540368 test loss = 300.32502697128615\n",
      "gamma = 0.05 C = 500 epsilon = 0.05 train loss =153.096491622681 test loss = 282.3586892331305\n",
      "gamma = 0.05 C = 500 epsilon = 0.1 train loss =150.66079135899145 test loss = 265.7422410806212\n",
      "gamma = 0.05 C = 500 epsilon = 0.15 train loss =153.6824096509939 test loss = 308.0053957206774\n",
      "gamma = 0.05 C = 750 epsilon = 0.05 train loss =149.05153879306636 test loss = 304.88506876266905\n",
      "gamma = 0.05 C = 750 epsilon = 0.1 train loss =148.23031658773755 test loss = 279.6701422213593\n",
      "gamma = 0.05 C = 750 epsilon = 0.15 train loss =151.82977503616684 test loss = 314.48834351115886\n",
      "gamma = 0.05 C = 1000 epsilon = 0.05 train loss =146.37234550793264 test loss = 314.3566946761014\n",
      "gamma = 0.05 C = 1000 epsilon = 0.1 train loss =145.9940950372049 test loss = 298.78647989193576\n",
      "gamma = 0.05 C = 1000 epsilon = 0.15 train loss =150.75674101860525 test loss = 324.29180415093515\n",
      "gamma = 0.075 C = 500 epsilon = 0.05 train loss =134.75079089530433 test loss = 354.54813598371305\n",
      "gamma = 0.075 C = 500 epsilon = 0.1 train loss =134.6042416314879 test loss = 328.9087136580725\n",
      "gamma = 0.075 C = 500 epsilon = 0.15 train loss =141.6532737132641 test loss = 338.6507393018814\n",
      "gamma = 0.075 C = 750 epsilon = 0.05 train loss =131.02496009682156 test loss = 386.0520080145521\n",
      "gamma = 0.075 C = 750 epsilon = 0.1 train loss =130.4597464257949 test loss = 373.80419562426044\n",
      "gamma = 0.075 C = 750 epsilon = 0.15 train loss =137.2305802039488 test loss = 363.81363001227083\n",
      "gamma = 0.075 C = 1000 epsilon = 0.05 train loss =128.51835827378932 test loss = 409.8616839588868\n",
      "gamma = 0.075 C = 1000 epsilon = 0.1 train loss =127.76909300965796 test loss = 420.8355499035032\n",
      "gamma = 0.075 C = 1000 epsilon = 0.15 train loss =135.0271480447791 test loss = 384.4020522870805\n"
     ]
    }
   ],
   "source": [
    "mat2 = np.empty([3,3,3,2])\n",
    "for i,gamma in enumerate([0.025,0.05,0.075]):\n",
    "    for j,C in enumerate([500,750,1000]):\n",
    "        for k,epsilon in enumerate([0.05,0.1,0.15]):\n",
    "            svr_rbf_log_sex_test = SVR(kernel='rbf', C=C, gamma=gamma, epsilon=epsilon)\n",
    "            svr_rbf_log_sex_test.fit(X_train, y_train)\n",
    "            \n",
    "            y_train_pred = svr_rbf_log_sex_test.predict(X_train)\n",
    "            y_test_pred =  svr_rbf_log_sex_test.predict(X_test)\n",
    "            \n",
    "            train_loss = np.mean((np.exp(y_train) - np.exp(y_train_pred))**2)\n",
    "            test_loss = np.mean((np.exp(y_test) - np.exp(y_test_pred))**2)\n",
    "            \n",
    "            print('gamma = {} C = {} epsilon = {} train loss ={} test loss = {}'.format(gamma, C, epsilon, train_loss, test_loss))\n",
    "            mat2[i,j,k,0] = train_loss\n",
    "            mat2[i,j,k,1] = test_loss"
   ]
  },
  {
   "cell_type": "markdown",
   "metadata": {},
   "source": [
    "较好的有：\n",
    "```\n",
    "gamma = 0.025 C = 500 epsilon = 0.05 train loss =166.05505990007327 test loss = 266.7965528280521\n",
    "gamma = 0.025 C = 500 epsilon = 0.1 train loss =167.18276718581097 test loss = 262.5433988082249\n",
    "gamma = 0.025 C = 500 epsilon = 0.15 train loss =169.45713940312336 test loss = 280.2704167195471\n",
    "gamma = 0.025 C = 750 epsilon = 0.05 train loss =164.83471127029975 test loss = 269.3317144813987\n",
    "gamma = 0.025 C = 750 epsilon = 0.1 train loss =164.17954655751467 test loss = 258.9617448446673\n",
    "gamma = 0.025 C = 750 epsilon = 0.15 train loss =167.29561757289366 test loss = 288.3668473369197\n",
    "gamma = 0.025 C = 1000 epsilon = 0.05 train loss =163.88356502900155 test loss = 273.8345647241228\n",
    "gamma = 0.025 C = 1000 epsilon = 0.1 train loss =162.86666352165636 test loss = 260.327989804144\n",
    "\n",
    "\n",
    "```"
   ]
  },
  {
   "cell_type": "code",
   "execution_count": 126,
   "metadata": {},
   "outputs": [
    {
     "name": "stdout",
     "output_type": "stream",
     "text": [
      "gamma = 0.01 C = 500 epsilon = 0.05 train loss =180.17825427221157 test loss = 232.00717211523087\n",
      "gamma = 0.01 C = 500 epsilon = 0.1 train loss =180.85186327008236 test loss = 227.57426091857405\n",
      "gamma = 0.01 C = 500 epsilon = 0.15 train loss =184.18292397496376 test loss = 246.35023471073538\n",
      "gamma = 0.01 C = 750 epsilon = 0.05 train loss =179.47504865529598 test loss = 234.97247568937246\n",
      "gamma = 0.01 C = 750 epsilon = 0.1 train loss =179.86769513040133 test loss = 239.19992039435\n",
      "gamma = 0.01 C = 750 epsilon = 0.15 train loss =183.62881055972002 test loss = 246.9774236221409\n",
      "gamma = 0.01 C = 1000 epsilon = 0.05 train loss =179.1473574527548 test loss = 239.49373932422864\n",
      "gamma = 0.01 C = 1000 epsilon = 0.1 train loss =179.4918766036786 test loss = 238.23628041064643\n",
      "gamma = 0.01 C = 1000 epsilon = 0.15 train loss =183.4440631531235 test loss = 243.92260204997064\n",
      "gamma = 0.02 C = 500 epsilon = 0.05 train loss =170.45765146355913 test loss = 261.4882662516275\n",
      "gamma = 0.02 C = 500 epsilon = 0.1 train loss =171.49149174610574 test loss = 267.8878392881861\n",
      "gamma = 0.02 C = 500 epsilon = 0.15 train loss =173.61561051816403 test loss = 294.58157689561904\n",
      "gamma = 0.02 C = 750 epsilon = 0.05 train loss =168.5119916494598 test loss = 265.0069307554104\n",
      "gamma = 0.02 C = 750 epsilon = 0.1 train loss =169.9703366516247 test loss = 271.0643342103224\n",
      "gamma = 0.02 C = 750 epsilon = 0.15 train loss =172.80978751467057 test loss = 297.5094138195539\n",
      "gamma = 0.02 C = 1000 epsilon = 0.05 train loss =167.14341467875923 test loss = 270.30148421759475\n",
      "gamma = 0.02 C = 1000 epsilon = 0.1 train loss =168.96341959678975 test loss = 267.0854128871339\n",
      "gamma = 0.02 C = 1000 epsilon = 0.15 train loss =171.96086048899406 test loss = 315.0578800211749\n",
      "gamma = 0.03 C = 500 epsilon = 0.05 train loss =163.24648691503407 test loss = 266.5078959351441\n",
      "gamma = 0.03 C = 500 epsilon = 0.1 train loss =162.0940953031615 test loss = 261.90945904645747\n",
      "gamma = 0.03 C = 500 epsilon = 0.15 train loss =164.65141812420367 test loss = 291.0975214157888\n",
      "gamma = 0.03 C = 750 epsilon = 0.05 train loss =160.9627749983837 test loss = 283.1357402195576\n",
      "gamma = 0.03 C = 750 epsilon = 0.1 train loss =159.72707911962124 test loss = 259.0184687418034\n",
      "gamma = 0.03 C = 750 epsilon = 0.15 train loss =163.10849970643505 test loss = 299.8059014455762\n",
      "gamma = 0.03 C = 1000 epsilon = 0.05 train loss =159.5750769826002 test loss = 290.26565673062146\n",
      "gamma = 0.03 C = 1000 epsilon = 0.1 train loss =158.2951449016835 test loss = 256.62492556696924\n",
      "gamma = 0.03 C = 1000 epsilon = 0.15 train loss =161.70861414100202 test loss = 297.1739821663589\n"
     ]
    }
   ],
   "source": [
    "mat3 = np.empty([3,3,3,2])\n",
    "for i,gamma in enumerate([0.01,0.02,0.03]):\n",
    "    for j,C in enumerate([500,750,1000]):\n",
    "        for k,epsilon in enumerate([0.05,0.1,0.15]):\n",
    "            svr_rbf_log_sex_test = SVR(kernel='rbf', C=C, gamma=gamma, epsilon=epsilon)\n",
    "            svr_rbf_log_sex_test.fit(X_train, y_train)\n",
    "            \n",
    "            y_train_pred = svr_rbf_log_sex_test.predict(X_train)\n",
    "            y_test_pred =  svr_rbf_log_sex_test.predict(X_test)\n",
    "            \n",
    "            train_loss = np.mean((np.exp(y_train) - np.exp(y_train_pred))**2)\n",
    "            test_loss = np.mean((np.exp(y_test) - np.exp(y_test_pred))**2)\n",
    "            \n",
    "            print('gamma = {} C = {} epsilon = {} train loss ={} test loss = {}'.format(gamma, C, epsilon, train_loss, test_loss))\n",
    "            mat3[i,j,k,0] = train_loss\n",
    "            mat3[i,j,k,1] = test_loss"
   ]
  },
  {
   "cell_type": "code",
   "execution_count": 137,
   "metadata": {},
   "outputs": [
    {
     "name": "stdout",
     "output_type": "stream",
     "text": [
      "gamma = 1e-05 C = 500 epsilon = 0.05 train loss =220.25862392549925 test loss = 235.70605465401366\n",
      "gamma = 1e-05 C = 500 epsilon = 0.1 train loss =222.34303088314402 test loss = 235.91230280294025\n",
      "gamma = 1e-05 C = 500 epsilon = 0.15 train loss =223.8469953353611 test loss = 240.37356100183362\n",
      "gamma = 1e-05 C = 750 epsilon = 0.05 train loss =221.506441151234 test loss = 239.31414840580604\n",
      "gamma = 1e-05 C = 750 epsilon = 0.1 train loss =222.93595516590003 test loss = 239.8876070575355\n",
      "gamma = 1e-05 C = 750 epsilon = 0.15 train loss =224.8203336341143 test loss = 244.49970543501462\n",
      "gamma = 1e-05 C = 1000 epsilon = 0.05 train loss =222.69561599272598 test loss = 241.57670922725515\n",
      "gamma = 1e-05 C = 1000 epsilon = 0.1 train loss =224.18494657063394 test loss = 241.09887219440802\n",
      "gamma = 1e-05 C = 1000 epsilon = 0.15 train loss =225.41599126244216 test loss = 245.6426390454773\n",
      "gamma = 0.006 C = 500 epsilon = 0.05 train loss =185.90000408538026 test loss = 224.8084074575614\n",
      "gamma = 0.006 C = 500 epsilon = 0.1 train loss =186.26345065222927 test loss = 212.12341586377866\n",
      "gamma = 0.006 C = 500 epsilon = 0.15 train loss =189.39507028105297 test loss = 239.1445350523548\n",
      "gamma = 0.006 C = 750 epsilon = 0.05 train loss =184.94089737875132 test loss = 224.35697920182568\n",
      "gamma = 0.006 C = 750 epsilon = 0.1 train loss =184.8625276435058 test loss = 214.58529940469526\n",
      "gamma = 0.006 C = 750 epsilon = 0.15 train loss =187.89277755104618 test loss = 245.44305291406226\n",
      "gamma = 0.006 C = 1000 epsilon = 0.05 train loss =184.11783100036922 test loss = 225.34325587742939\n",
      "gamma = 0.006 C = 1000 epsilon = 0.1 train loss =184.10491329793376 test loss = 215.82467504344532\n",
      "gamma = 0.006 C = 1000 epsilon = 0.15 train loss =186.93608530931343 test loss = 255.7122369582454\n",
      "gamma = 0.012 C = 500 epsilon = 0.05 train loss =178.86180470716593 test loss = 239.41745409346828\n",
      "gamma = 0.012 C = 500 epsilon = 0.1 train loss =178.7909166941786 test loss = 241.82817651993383\n",
      "gamma = 0.012 C = 500 epsilon = 0.15 train loss =182.3414678460435 test loss = 259.19543185349403\n",
      "gamma = 0.012 C = 750 epsilon = 0.05 train loss =177.9935492282882 test loss = 242.7399431351513\n",
      "gamma = 0.012 C = 750 epsilon = 0.1 train loss =178.20943385259446 test loss = 236.21168865830327\n",
      "gamma = 0.012 C = 750 epsilon = 0.15 train loss =181.29349337463887 test loss = 260.82698525758343\n",
      "gamma = 0.012 C = 1000 epsilon = 0.05 train loss =177.40263368034763 test loss = 251.26474563112748\n",
      "gamma = 0.012 C = 1000 epsilon = 0.1 train loss =177.7823988707053 test loss = 237.6723959911634\n",
      "gamma = 0.012 C = 1000 epsilon = 0.15 train loss =180.72855123071832 test loss = 262.924698369114\n"
     ]
    }
   ],
   "source": [
    "mat3 = np.empty([3,3,3,2])\n",
    "for i,gamma in enumerate([0.00001,0.006,0.012]):\n",
    "    for j,C in enumerate([500,750,1000]):\n",
    "        for k,epsilon in enumerate([0.05,0.1,0.15]):\n",
    "            svr_rbf_log_sex_test = SVR(kernel='rbf', C=C, gamma=gamma, epsilon=epsilon)\n",
    "            svr_rbf_log_sex_test.fit(X_train, y_train)\n",
    "            \n",
    "            y_train_pred = svr_rbf_log_sex_test.predict(X_train)\n",
    "            y_test_pred =  svr_rbf_log_sex_test.predict(X_test)\n",
    "            \n",
    "            train_loss = np.mean((np.exp(y_train) - np.exp(y_train_pred))**2)\n",
    "            test_loss = np.mean((np.exp(y_test) - np.exp(y_test_pred))**2)\n",
    "            \n",
    "            print('gamma = {} C = {} epsilon = {} train loss ={} test loss = {}'.format(gamma, C, epsilon, train_loss, test_loss))\n",
    "            mat3[i,j,k,0] = train_loss\n",
    "            mat3[i,j,k,1] = test_loss"
   ]
  },
  {
   "cell_type": "markdown",
   "metadata": {},
   "source": [
    "话说我回来我一直追逐test loss最小化不也是在过拟合么。。"
   ]
  },
  {
   "cell_type": "markdown",
   "metadata": {},
   "source": [
    "```\n",
    "gamma = 0.006 C = 500 epsilon = 0.1 train loss =186.26345065222927 test loss = 212.12341586377866\n",
    "gamma = 0.006 C = 750 epsilon = 0.1 train loss =184.8625276435058 test loss = 214.58529940469526\n",
    "gamma = 0.006 C = 1000 epsilon = 0.1 train loss =184.10491329793376 test loss = 215.82467504344532\n",
    "```"
   ]
  },
  {
   "cell_type": "code",
   "execution_count": 132,
   "metadata": {},
   "outputs": [
    {
     "data": {
      "text/plain": [
       "0.010019060118527096"
      ]
     },
     "execution_count": 132,
     "metadata": {},
     "output_type": "execute_result"
    }
   ],
   "source": [
    "1/(X_train.std()*4) # auto也就应该得到这个数，确实应该取到比较小。"
   ]
  },
  {
   "cell_type": "code",
   "execution_count": 141,
   "metadata": {},
   "outputs": [
    {
     "name": "stdout",
     "output_type": "stream",
     "text": [
      "gamma = 0.005 C = 250 epsilon = 0.075 train loss =189.435873288272 test loss = 221.98761506040768\n",
      "gamma = 0.005 C = 250 epsilon = 0.1 train loss =191.16807045689154 test loss = 216.37856618275472\n",
      "gamma = 0.005 C = 250 epsilon = 0.125 train loss =192.0713862505666 test loss = 223.89495943078825\n",
      "gamma = 0.005 C = 500 epsilon = 0.075 train loss =187.19901234839824 test loss = 217.88288908376708\n",
      "gamma = 0.005 C = 500 epsilon = 0.1 train loss =188.2060153006922 test loss = 218.17381413429058\n",
      "gamma = 0.005 C = 500 epsilon = 0.125 train loss =189.7695261485154 test loss = 228.3536195662541\n",
      "gamma = 0.005 C = 750 epsilon = 0.075 train loss =185.90919377816002 test loss = 222.8836172334892\n",
      "gamma = 0.005 C = 750 epsilon = 0.1 train loss =186.85613249009472 test loss = 216.52109215466507\n",
      "gamma = 0.005 C = 750 epsilon = 0.125 train loss =188.43527540113496 test loss = 232.55813353349492\n",
      "gamma = 0.006 C = 250 epsilon = 0.075 train loss =187.08204079443183 test loss = 222.29211812818662\n",
      "gamma = 0.006 C = 250 epsilon = 0.1 train loss =188.37547078598138 test loss = 214.58518068020493\n",
      "gamma = 0.006 C = 250 epsilon = 0.125 train loss =189.4394389532528 test loss = 224.90187366036864\n",
      "gamma = 0.006 C = 500 epsilon = 0.075 train loss =185.08717109596267 test loss = 229.03330034005168\n",
      "gamma = 0.006 C = 500 epsilon = 0.1 train loss =186.26345065222927 test loss = 212.12341586377866\n",
      "gamma = 0.006 C = 500 epsilon = 0.125 train loss =188.18085243135263 test loss = 226.72942042157032\n",
      "gamma = 0.006 C = 750 epsilon = 0.075 train loss =183.81777012223043 test loss = 231.19280764670876\n",
      "gamma = 0.006 C = 750 epsilon = 0.1 train loss =184.8625276435058 test loss = 214.58529940469526\n",
      "gamma = 0.006 C = 750 epsilon = 0.125 train loss =186.91579249662482 test loss = 230.60073142405315\n",
      "gamma = 0.007 C = 250 epsilon = 0.075 train loss =185.38117046505118 test loss = 223.74829193342197\n",
      "gamma = 0.007 C = 250 epsilon = 0.1 train loss =186.75355280054887 test loss = 212.33537358283021\n",
      "gamma = 0.007 C = 250 epsilon = 0.125 train loss =188.49409115611581 test loss = 224.9452288735989\n",
      "gamma = 0.007 C = 500 epsilon = 0.075 train loss =183.68679975109174 test loss = 226.69723187582915\n",
      "gamma = 0.007 C = 500 epsilon = 0.1 train loss =184.83000633006466 test loss = 211.8989016406081\n",
      "gamma = 0.007 C = 500 epsilon = 0.125 train loss =187.00281177684207 test loss = 227.84943484406625\n",
      "gamma = 0.007 C = 750 epsilon = 0.075 train loss =182.46805496296182 test loss = 224.19199685891408\n",
      "gamma = 0.007 C = 750 epsilon = 0.1 train loss =183.52560211829766 test loss = 215.76663123280204\n",
      "gamma = 0.007 C = 750 epsilon = 0.125 train loss =185.41699390666508 test loss = 229.8913170453364\n"
     ]
    }
   ],
   "source": [
    "mat3 = np.empty([3,3,3,2])\n",
    "for i,gamma in enumerate([0.005,0.006,0.007]):\n",
    "    for j,C in enumerate([250, 500,750]):\n",
    "        for k,epsilon in enumerate([0.075,0.1,0.125]):\n",
    "            svr_rbf_log_sex_test = SVR(kernel='rbf', C=C, gamma=gamma, epsilon=epsilon)\n",
    "            svr_rbf_log_sex_test.fit(X_train, y_train)\n",
    "            \n",
    "            y_train_pred = svr_rbf_log_sex_test.predict(X_train)\n",
    "            y_test_pred =  svr_rbf_log_sex_test.predict(X_test)\n",
    "            \n",
    "            train_loss = np.mean((np.exp(y_train) - np.exp(y_train_pred))**2)\n",
    "            test_loss = np.mean((np.exp(y_test) - np.exp(y_test_pred))**2)\n",
    "            \n",
    "            print('gamma = {} C = {} epsilon = {} train loss ={} test loss = {}'.format(gamma, C, epsilon, train_loss, test_loss))\n",
    "            mat3[i,j,k,0] = train_loss\n",
    "            mat3[i,j,k,1] = test_loss"
   ]
  },
  {
   "cell_type": "code",
   "execution_count": 143,
   "metadata": {},
   "outputs": [],
   "source": [
    "svr_rbf_log_sex_test = SVR(kernel='rbf', C=500, gamma=0.006, epsilon=0.1)\n",
    "svr_rbf_log_sex_test.fit(Xp_sex, yp)\n",
    "\n",
    "yp_pred = svr_rbf_log_sex_test.predict(Xp_sex)"
   ]
  },
  {
   "cell_type": "code",
   "execution_count": 144,
   "metadata": {},
   "outputs": [
    {
     "data": {
      "text/plain": [
       "189.64043175187462"
      ]
     },
     "execution_count": 144,
     "metadata": {},
     "output_type": "execute_result"
    }
   ],
   "source": [
    "np.mean((np.exp(yp_pred) - np.exp(yp))**2)"
   ]
  },
  {
   "cell_type": "code",
   "execution_count": 147,
   "metadata": {},
   "outputs": [
    {
     "data": {
      "text/plain": [
       "[<matplotlib.lines.Line2D at 0x2bf4501cbe0>]"
      ]
     },
     "execution_count": 147,
     "metadata": {},
     "output_type": "execute_result"
    },
    {
     "data": {
      "image/png": "[encoded data removed]",
      "text/plain": [
       "<Figure size 432x288 with 1 Axes>"
      ]
     },
     "metadata": {},
     "output_type": "display_data"
    }
   ],
   "source": [
    "plt.plot(np.exp(yp), np.exp(yp_pred),'o')"
   ]
  },
  {
   "cell_type": "code",
   "execution_count": 149,
   "metadata": {},
   "outputs": [],
   "source": [
    "X_train_o, X_test_o, y_train_o, y_test_o = train_test_split(X, y, test_size=0.2, random_state=51)"
   ]
  },
  {
   "cell_type": "code",
   "execution_count": 151,
   "metadata": {},
   "outputs": [
    {
     "name": "stdout",
     "output_type": "stream",
     "text": [
      "gamma = 0.005 C = 250 epsilon = 0.075 train loss =231.49164473242206 test loss = 222.3932079995614\n",
      "gamma = 0.005 C = 250 epsilon = 0.1 train loss =231.49079048264247 test loss = 222.41066566609743\n",
      "gamma = 0.005 C = 250 epsilon = 0.125 train loss =231.4898997980734 test loss = 222.42033167993887\n",
      "gamma = 0.005 C = 500 epsilon = 0.075 train loss =225.10252465666534 test loss = 216.87784561553556\n",
      "gamma = 0.005 C = 500 epsilon = 0.1 train loss =225.06691274118407 test loss = 216.8718999212315\n",
      "gamma = 0.005 C = 500 epsilon = 0.125 train loss =225.00168094659313 test loss = 216.8801954252076\n",
      "gamma = 0.005 C = 750 epsilon = 0.075 train loss =221.7692298689632 test loss = 213.54663605918702\n",
      "gamma = 0.005 C = 750 epsilon = 0.1 train loss =221.76029283907354 test loss = 213.66565482157492\n",
      "gamma = 0.005 C = 750 epsilon = 0.125 train loss =221.76548300469932 test loss = 213.76477918698558\n",
      "gamma = 0.006 C = 250 epsilon = 0.075 train loss =227.8189864621852 test loss = 220.50886123220292\n",
      "gamma = 0.006 C = 250 epsilon = 0.1 train loss =227.77805886569124 test loss = 220.39268480216222\n",
      "gamma = 0.006 C = 250 epsilon = 0.125 train loss =227.74090432008816 test loss = 220.27571637806074\n",
      "gamma = 0.006 C = 500 epsilon = 0.075 train loss =222.10840091472934 test loss = 215.0398905629931\n",
      "gamma = 0.006 C = 500 epsilon = 0.1 train loss =222.0056920578451 test loss = 215.10620979055366\n",
      "gamma = 0.006 C = 500 epsilon = 0.125 train loss =221.92368877458438 test loss = 215.15171514985468\n",
      "gamma = 0.006 C = 750 epsilon = 0.075 train loss =218.136646817429 test loss = 209.99392847722712\n",
      "gamma = 0.006 C = 750 epsilon = 0.1 train loss =218.11710080155004 test loss = 210.02010381851358\n",
      "gamma = 0.006 C = 750 epsilon = 0.125 train loss =218.10526685283108 test loss = 209.9837041298464\n",
      "gamma = 0.007 C = 250 epsilon = 0.075 train loss =225.32320485772388 test loss = 219.7424442231219\n",
      "gamma = 0.007 C = 250 epsilon = 0.1 train loss =225.2768840163057 test loss = 219.67273427358134\n",
      "gamma = 0.007 C = 250 epsilon = 0.125 train loss =225.22337640806853 test loss = 219.6228885927783\n",
      "gamma = 0.007 C = 500 epsilon = 0.075 train loss =218.60727900396614 test loss = 211.69907538315044\n",
      "gamma = 0.007 C = 500 epsilon = 0.1 train loss =218.59426646179088 test loss = 211.67800467632034\n",
      "gamma = 0.007 C = 500 epsilon = 0.125 train loss =218.58509139663335 test loss = 211.65389334232867\n",
      "gamma = 0.007 C = 750 epsilon = 0.075 train loss =214.96851493400942 test loss = 210.13066639190336\n",
      "gamma = 0.007 C = 750 epsilon = 0.1 train loss =214.97296662523095 test loss = 210.10929377186807\n",
      "gamma = 0.007 C = 750 epsilon = 0.125 train loss =214.9919177593462 test loss = 210.06016130435148\n"
     ]
    }
   ],
   "source": [
    "mat3 = np.empty([3,3,3,2])\n",
    "for i,gamma in enumerate([0.005,0.006,0.007]):\n",
    "    for j,C in enumerate([250, 500,750]):\n",
    "        for k,epsilon in enumerate([0.075,0.1,0.125]):\n",
    "            svr_rbf_log_sex_test = SVR(kernel='rbf', C=C, gamma=gamma, epsilon=epsilon)\n",
    "            svr_rbf_log_sex_test.fit(X_train_o, y_train_o)\n",
    "            \n",
    "            y_train_pred = svr_rbf_log_sex_test.predict(X_train_o)\n",
    "            y_test_pred =  svr_rbf_log_sex_test.predict(X_test_o)\n",
    "            \n",
    "            train_loss = np.mean((y_train_o - y_train_pred)**2)\n",
    "            test_loss = np.mean((y_test_o - y_test_pred)**2)\n",
    "            \n",
    "            print('gamma = {} C = {} epsilon = {} train loss ={} test loss = {}'.format(gamma, C, epsilon, train_loss, test_loss))\n",
    "            mat3[i,j,k,0] = train_loss\n",
    "            mat3[i,j,k,1] = test_loss"
   ]
  },
  {
   "cell_type": "markdown",
   "metadata": {},
   "source": [
    "gamma = 0.006 C = 750 epsilon = 0.075 train loss =218.136646817429 test loss = 209.99392847722712\n",
    "\n",
    "不用变换效果更好可还行，不过下面这些估计有点对测试集过拟合了。可以看到train loss 比test loss还大"
   ]
  },
  {
   "cell_type": "code",
   "execution_count": 152,
   "metadata": {},
   "outputs": [],
   "source": [
    "svr_rbf_log_sex_test = SVR(kernel='rbf', C=500, gamma=0.006, epsilon=0.1)\n",
    "svr_rbf_log_sex_test.fit(X, y)\n",
    "\n",
    "y_pred = svr_rbf_log_sex_test.predict(X)"
   ]
  },
  {
   "cell_type": "code",
   "execution_count": 153,
   "metadata": {},
   "outputs": [
    {
     "data": {
      "text/plain": [
       "217.7479956770599"
      ]
     },
     "execution_count": 153,
     "metadata": {},
     "output_type": "execute_result"
    }
   ],
   "source": [
    "np.mean((y_pred - y)**2)"
   ]
  },
  {
   "cell_type": "code",
   "execution_count": null,
   "metadata": {},
   "outputs": [],
   "source": []
  }
 ],
 "metadata": {
  "kernelspec": {
   "display_name": "Python 3",
   "language": "python",
   "name": "python3"
  },
  "language_info": {
   "codemirror_mode": {
    "name": "ipython",
    "version": 3
   },
   "file_extension": ".py",
   "mimetype": "text/x-python",
   "name": "python",
   "nbconvert_exporter": "python",
   "pygments_lexer": "ipython3",
   "version": "3.6.5"
  }
 },
 "nbformat": 4,
 "nbformat_minor": 2
}
