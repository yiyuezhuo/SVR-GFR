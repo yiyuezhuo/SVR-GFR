{
 "cells": [
  {
   "cell_type": "markdown",
   "metadata": {},
   "source": [
    "除了它自己那个不知道怎么得到的公式以外，线性回归的baseline也是重要的。也要分别试试log化的和没有log化的"
   ]
  },
  {
   "cell_type": "code",
   "execution_count": 1,
   "metadata": {},
   "outputs": [],
   "source": [
    "import pandas as pd\n",
    "\n",
    "import statsmodels.formula.api as smf\n",
    "import numpy as np\n",
    "import matplotlib.pyplot as plt\n",
    "\n",
    "%matplotlib inline"
   ]
  },
  {
   "cell_type": "code",
   "execution_count": 2,
   "metadata": {},
   "outputs": [
    {
     "data": {
      "text/plain": [
       "(1188, 6)"
      ]
     },
     "execution_count": 2,
     "metadata": {},
     "output_type": "execute_result"
    }
   ],
   "source": [
    "df = pd.read_excel('GFR-SVR数据.xls')\n",
    "df.columns = ['id', 'age', 'sex', 'rGFR', 'Scr', 'Cys']\n",
    "df['Cys'] = pd.to_numeric(df['Cys'], errors='coerce')\n",
    "df=df.dropna()\n",
    "df.shape"
   ]
  },
  {
   "cell_type": "code",
   "execution_count": 3,
   "metadata": {},
   "outputs": [],
   "source": [
    "from sklearn.linear_model import LinearRegression"
   ]
  },
  {
   "cell_type": "code",
   "execution_count": 6,
   "metadata": {},
   "outputs": [],
   "source": [
    "dfp = df.loc[:df.shape[0]-1] # last record is hard to deal\n",
    "\n",
    "X = df[['age', 'Scr', 'Cys']]\n",
    "y = df['rGFR']\n",
    "\n",
    "X_sex = df[['age','Scr','Cys','sex']]\n",
    "\n",
    "yp = np.log(dfp['rGFR'])\n",
    "Xp = np.stack([dfp['age'], np.log(dfp['Scr']), np.log(dfp['Cys'])], 1)\n",
    "\n",
    "yp = np.log(dfp['rGFR'])\n",
    "Xp_sex = np.stack([dfp['age'], np.log(dfp['Scr']), np.log(dfp['Cys']), dfp['sex']], 1)"
   ]
  },
  {
   "cell_type": "code",
   "execution_count": 13,
   "metadata": {},
   "outputs": [
    {
     "data": {
      "text/plain": [
       "317.6063130597567"
      ]
     },
     "execution_count": 13,
     "metadata": {},
     "output_type": "execute_result"
    }
   ],
   "source": [
    "model = LinearRegression()\n",
    "y_pred = model.fit(X,y).predict(X)\n",
    "np.mean((y - y_pred)**2)"
   ]
  },
  {
   "cell_type": "code",
   "execution_count": 14,
   "metadata": {},
   "outputs": [
    {
     "data": {
      "text/plain": [
       "314.4968821852696"
      ]
     },
     "execution_count": 14,
     "metadata": {},
     "output_type": "execute_result"
    }
   ],
   "source": [
    "model_sex = LinearRegression()\n",
    "y_sex_pred = model_sex.fit(X_sex,y).predict(X_sex)\n",
    "np.mean((y - y_sex_pred)**2)"
   ]
  },
  {
   "cell_type": "code",
   "execution_count": 15,
   "metadata": {},
   "outputs": [
    {
     "data": {
      "text/plain": [
       "234.59113039423264"
      ]
     },
     "execution_count": 15,
     "metadata": {},
     "output_type": "execute_result"
    }
   ],
   "source": [
    "model_log = LinearRegression()\n",
    "yp_pred = model_log.fit(Xp,yp).predict(Xp)\n",
    "np.mean((np.exp(yp_pred) - np.exp(yp))**2)"
   ]
  },
  {
   "cell_type": "code",
   "execution_count": 16,
   "metadata": {},
   "outputs": [
    {
     "data": {
      "text/plain": [
       "235.92777092849204"
      ]
     },
     "execution_count": 16,
     "metadata": {},
     "output_type": "execute_result"
    }
   ],
   "source": [
    "model_log_sex = LinearRegression()\n",
    "yp_sex_pred = model_log_sex.fit(Xp_sex,yp).predict(Xp_sex)\n",
    "np.mean((np.exp(yp_sex_pred) - np.exp(yp))**2)"
   ]
  },
  {
   "cell_type": "code",
   "execution_count": 17,
   "metadata": {},
   "outputs": [
    {
     "data": {
      "text/plain": [
       "array([-0.00346906, -0.36474529, -0.44646327,  0.03449203])"
      ]
     },
     "execution_count": 17,
     "metadata": {},
     "output_type": "execute_result"
    }
   ],
   "source": [
    "model_log_sex.coef_"
   ]
  },
  {
   "cell_type": "code",
   "execution_count": 20,
   "metadata": {},
   "outputs": [
    {
     "data": {
      "text/plain": [
       "4.445729428272579"
      ]
     },
     "execution_count": 20,
     "metadata": {},
     "output_type": "execute_result"
    }
   ],
   "source": [
    "model_log_sex.intercept_"
   ]
  },
  {
   "cell_type": "code",
   "execution_count": 21,
   "metadata": {},
   "outputs": [
    {
     "data": {
      "text/plain": [
       "85.26204770851174"
      ]
     },
     "execution_count": 21,
     "metadata": {},
     "output_type": "execute_result"
    }
   ],
   "source": [
    "np.exp(_)"
   ]
  },
  {
   "cell_type": "code",
   "execution_count": 23,
   "metadata": {},
   "outputs": [
    {
     "data": {
      "text/plain": [
       "-0.007024614936964466"
      ]
     },
     "execution_count": 23,
     "metadata": {},
     "output_type": "execute_result"
    }
   ],
   "source": [
    "np.log(0.993)"
   ]
  },
  {
   "cell_type": "markdown",
   "metadata": {},
   "source": [
    "和经验公式的系数类似\n",
    "\n",
    "不过这样对比也不太公平，线性回归用上了所有样本，效果自然要好一点，虽然它倒也不可能过拟合，但为了公平起见还是改成0.2比例样本分离出去。"
   ]
  },
  {
   "cell_type": "code",
   "execution_count": 24,
   "metadata": {},
   "outputs": [],
   "source": [
    "from sklearn.model_selection import train_test_split\n"
   ]
  },
  {
   "cell_type": "code",
   "execution_count": 25,
   "metadata": {},
   "outputs": [],
   "source": [
    "Xp_train, Xp_test, yp_train, yp_test = train_test_split(Xp_sex, yp)"
   ]
  },
  {
   "cell_type": "code",
   "execution_count": 26,
   "metadata": {},
   "outputs": [
    {
     "data": {
      "text/plain": [
       "(228.4732652710458, 268.47057711248624)"
      ]
     },
     "execution_count": 26,
     "metadata": {},
     "output_type": "execute_result"
    }
   ],
   "source": [
    "model_log_sex = LinearRegression()\n",
    "model_log_sex.fit(Xp_train,yp_train)\n",
    "yp_train_pred = model_log_sex.predict(Xp_train)\n",
    "yp_test_pred = model_log_sex.predict(Xp_test)\n",
    "\n",
    "np.mean((np.exp(yp_train_pred) - np.exp(yp_train))**2),np.mean((np.exp(yp_test_pred) - np.exp(yp_test))**2)"
   ]
  },
  {
   "cell_type": "code",
   "execution_count": 27,
   "metadata": {},
   "outputs": [],
   "source": [
    "X_train, X_test, y_train, y_test = train_test_split(X, y)"
   ]
  },
  {
   "cell_type": "code",
   "execution_count": null,
   "metadata": {},
   "outputs": [],
   "source": [
    "model_sex = LinearRegression()\n",
    "model_sex.fit(Xp_train,yp_train)\n",
    "yp_train_pred = model_log_sex.predict(Xp_train)\n",
    "yp_test_pred = model_log_sex.predict(Xp_test)\n"
   ]
  },
  {
   "cell_type": "code",
   "execution_count": null,
   "metadata": {},
   "outputs": [],
   "source": []
  },
  {
   "cell_type": "code",
   "execution_count": null,
   "metadata": {},
   "outputs": [],
   "source": []
  }
 ],
 "metadata": {
  "kernelspec": {
   "display_name": "Python 3",
   "language": "python",
   "name": "python3"
  },
  "language_info": {
   "codemirror_mode": {
    "name": "ipython",
    "version": 3
   },
   "file_extension": ".py",
   "mimetype": "text/x-python",
   "name": "python",
   "nbconvert_exporter": "python",
   "pygments_lexer": "ipython3",
   "version": "3.6.5"
  }
 },
 "nbformat": 4,
 "nbformat_minor": 2
}
