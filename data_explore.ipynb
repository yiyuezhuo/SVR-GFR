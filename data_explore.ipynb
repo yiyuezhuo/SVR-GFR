{
 "cells": [
  {
   "cell_type": "markdown",
   "metadata": {},
   "source": [
    "STM我突然发现性别那里很多0值，这不搞笑么。。有75个，没必要单独建模或者插值。直接全删了。果然先进行完全的数据探索是必要的。"
   ]
  },
  {
   "cell_type": "code",
   "execution_count": 22,
   "metadata": {},
   "outputs": [],
   "source": [
    "import pandas as pd\n",
    "import numpy as np\n",
    "from sklearn.linear_model import LinearRegression\n",
    "from sklearn.svm import SVR\n",
    "from sklearn.model_selection import train_test_split\n",
    "import matplotlib.pyplot as plt\n",
    "import pickle\n",
    "import os\n",
    "\n",
    "from empirical_formulas import apply_formulas, func_name_list\n"
   ]
  },
  {
   "cell_type": "code",
   "execution_count": 3,
   "metadata": {},
   "outputs": [
    {
     "data": {
      "text/plain": [
       "(1197, 6)"
      ]
     },
     "execution_count": 3,
     "metadata": {},
     "output_type": "execute_result"
    }
   ],
   "source": [
    "df = pd.read_excel('GFR-SVR数据.xls')\n",
    "df.columns = ['id', 'age', 'sex', 'rGFR', 'Scr', 'Cys']\n",
    "df.shape"
   ]
  },
  {
   "cell_type": "code",
   "execution_count": 4,
   "metadata": {},
   "outputs": [
    {
     "data": {
      "text/plain": [
       "(1188, 6)"
      ]
     },
     "execution_count": 4,
     "metadata": {},
     "output_type": "execute_result"
    }
   ],
   "source": [
    "df['Cys'] = pd.to_numeric(df['Cys'], errors='coerce')\n",
    "df=df.dropna()\n",
    "df.shape"
   ]
  },
  {
   "cell_type": "code",
   "execution_count": 15,
   "metadata": {},
   "outputs": [
    {
     "data": {
      "text/plain": [
       "(1081, 6)"
      ]
     },
     "execution_count": 15,
     "metadata": {},
     "output_type": "execute_result"
    }
   ],
   "source": [
    "df = df[(18<df['age']) & (df['age']<=100) & (1<=df['sex']) & (df['sex']<=2) & (5 <= df['rGFR']) & (df['rGFR'] <= 150) & \\\n",
    "       (0.0 <= df['Scr']) & (df['Scr'] <= 3000) & (0.2 <= df['Cys']) & (df['Cys'] < 5.0)]\n",
    "df.shape"
   ]
  },
  {
   "cell_type": "code",
   "execution_count": 20,
   "metadata": {},
   "outputs": [],
   "source": [
    "apply_formulas(df)"
   ]
  },
  {
   "cell_type": "code",
   "execution_count": 23,
   "metadata": {},
   "outputs": [
    {
     "data": {
      "text/plain": [
       "CKD_EPI_Cr        3.474546e+02\n",
       "CKD_EPI_Cys       4.016079e+02\n",
       "CKD_EPI_Cr_Cys    2.998761e+02\n",
       "FAS_cr            4.791257e+02\n",
       "FAS_Cys           1.723455e+06\n",
       "FAS_Cr_Cys        1.943686e+06\n",
       "dtype: float64"
      ]
     },
     "execution_count": 23,
     "metadata": {},
     "output_type": "execute_result"
    }
   ],
   "source": [
    "(df[func_name_list].apply(lambda col:col-df['rGFR'],axis=0)**2).mean(axis=0) #均方误差"
   ]
  },
  {
   "cell_type": "code",
   "execution_count": 26,
   "metadata": {},
   "outputs": [
    {
     "data": {
      "text/html": [
       "<div>\n",
       "<style scoped>\n",
       "    .dataframe tbody tr th:only-of-type {\n",
       "        vertical-align: middle;\n",
       "    }\n",
       "\n",
       "    .dataframe tbody tr th {\n",
       "        vertical-align: top;\n",
       "    }\n",
       "\n",
       "    .dataframe thead th {\n",
       "        text-align: right;\n",
       "    }\n",
       "</style>\n",
       "<table border=\"1\" class=\"dataframe\">\n",
       "  <thead>\n",
       "    <tr style=\"text-align: right;\">\n",
       "      <th></th>\n",
       "      <th>id</th>\n",
       "      <th>age</th>\n",
       "      <th>rGFR</th>\n",
       "      <th>Scr</th>\n",
       "      <th>Cys</th>\n",
       "      <th>CKD_EPI_Cr</th>\n",
       "      <th>CKD_EPI_Cys</th>\n",
       "      <th>CKD_EPI_Cr_Cys</th>\n",
       "      <th>FAS_cr</th>\n",
       "      <th>FAS_Cys</th>\n",
       "      <th>FAS_Cr_Cys</th>\n",
       "    </tr>\n",
       "    <tr>\n",
       "      <th>sex</th>\n",
       "      <th></th>\n",
       "      <th></th>\n",
       "      <th></th>\n",
       "      <th></th>\n",
       "      <th></th>\n",
       "      <th></th>\n",
       "      <th></th>\n",
       "      <th></th>\n",
       "      <th></th>\n",
       "      <th></th>\n",
       "      <th></th>\n",
       "    </tr>\n",
       "  </thead>\n",
       "  <tbody>\n",
       "    <tr>\n",
       "      <th>1</th>\n",
       "      <td>685.293103</td>\n",
       "      <td>55.586207</td>\n",
       "      <td>63.802748</td>\n",
       "      <td>1.813219</td>\n",
       "      <td>1.693448</td>\n",
       "      <td>66.166964</td>\n",
       "      <td>57.482709</td>\n",
       "      <td>60.898614</td>\n",
       "      <td>67.133613</td>\n",
       "      <td>1047.591832</td>\n",
       "      <td>1110.852965</td>\n",
       "    </tr>\n",
       "    <tr>\n",
       "      <th>2</th>\n",
       "      <td>503.615584</td>\n",
       "      <td>54.862338</td>\n",
       "      <td>71.284883</td>\n",
       "      <td>1.327743</td>\n",
       "      <td>1.525481</td>\n",
       "      <td>72.562213</td>\n",
       "      <td>62.007541</td>\n",
       "      <td>66.497312</td>\n",
       "      <td>73.459845</td>\n",
       "      <td>1065.895221</td>\n",
       "      <td>1108.766670</td>\n",
       "    </tr>\n",
       "  </tbody>\n",
       "</table>\n",
       "</div>"
      ],
      "text/plain": [
       "             id        age       rGFR       Scr       Cys  CKD_EPI_Cr  \\\n",
       "sex                                                                     \n",
       "1    685.293103  55.586207  63.802748  1.813219  1.693448   66.166964   \n",
       "2    503.615584  54.862338  71.284883  1.327743  1.525481   72.562213   \n",
       "\n",
       "     CKD_EPI_Cys  CKD_EPI_Cr_Cys     FAS_cr      FAS_Cys   FAS_Cr_Cys  \n",
       "sex                                                                    \n",
       "1      57.482709       60.898614  67.133613  1047.591832  1110.852965  \n",
       "2      62.007541       66.497312  73.459845  1065.895221  1108.766670  "
      ]
     },
     "execution_count": 26,
     "metadata": {},
     "output_type": "execute_result"
    }
   ],
   "source": [
    "df.groupby('sex').mean()"
   ]
  },
  {
   "cell_type": "markdown",
   "metadata": {},
   "source": [
    "我当初要执行了这个例行公事就不至于连0的存在都尼玛没发现了。"
   ]
  },
  {
   "cell_type": "code",
   "execution_count": 30,
   "metadata": {},
   "outputs": [],
   "source": [
    "dfp = df.copy()\n",
    "\n",
    "yp = np.log(dfp['rGFR'])\n",
    "Xp = np.stack([dfp['age'], np.log(dfp['Scr']), np.log(dfp['Cys'])], 1)\n",
    "\n",
    "Xp_sex = np.stack([dfp['age'], np.log(dfp['Scr']), np.log(dfp['Cys']), dfp['sex']], 1)"
   ]
  },
  {
   "cell_type": "code",
   "execution_count": 31,
   "metadata": {},
   "outputs": [],
   "source": [
    "X_train, X_test, y_train, y_test = train_test_split(Xp_sex, yp, test_size=0.2, random_state=51)"
   ]
  },
  {
   "cell_type": "code",
   "execution_count": 32,
   "metadata": {},
   "outputs": [
    {
     "name": "stdout",
     "output_type": "stream",
     "text": [
      "gamma = 0.05 C = 500 epsilon = 0.05 train loss =162.7287532126021 test loss = 279.14374322074394\n",
      "gamma = 0.05 C = 500 epsilon = 0.1 train loss =161.58430495529606 test loss = 278.62134321428994\n",
      "gamma = 0.05 C = 500 epsilon = 0.15 train loss =166.7621744264278 test loss = 255.40518305999345\n",
      "gamma = 0.05 C = 1000.0 epsilon = 0.05 train loss =159.05065096933146 test loss = 354.33336193454693\n",
      "gamma = 0.05 C = 1000.0 epsilon = 0.1 train loss =158.413402752551 test loss = 395.2911787856813\n",
      "gamma = 0.05 C = 1000.0 epsilon = 0.15 train loss =162.64756314507082 test loss = 277.5286203966757\n",
      "gamma = 0.05 C = 1500 epsilon = 0.05 train loss =156.74274954130422 test loss = 465.46008336766505\n",
      "gamma = 0.05 C = 1500 epsilon = 0.1 train loss =156.30058851918227 test loss = 439.24834729329274\n",
      "gamma = 0.05 C = 1500 epsilon = 0.15 train loss =160.52438249825488 test loss = 299.0835570419334\n",
      "gamma = 0.1 C = 500 epsilon = 0.05 train loss =127.83022491932736 test loss = 400.19842945899137\n",
      "gamma = 0.1 C = 500 epsilon = 0.1 train loss =129.78094203799768 test loss = 357.260472774528\n",
      "gamma = 0.1 C = 500 epsilon = 0.15 train loss =141.01021237428645 test loss = 320.3384155985758\n",
      "gamma = 0.1 C = 1000.0 epsilon = 0.05 train loss =118.54921606667304 test loss = 449.439919352838\n",
      "gamma = 0.1 C = 1000.0 epsilon = 0.1 train loss =121.09608074740655 test loss = 445.30243789958394\n",
      "gamma = 0.1 C = 1000.0 epsilon = 0.15 train loss =132.7485690565255 test loss = 342.41491329086193\n",
      "gamma = 0.1 C = 1500 epsilon = 0.05 train loss =111.4035847818224 test loss = 518.4595768746972\n",
      "gamma = 0.1 C = 1500 epsilon = 0.1 train loss =116.41325625064492 test loss = 422.4359201318589\n",
      "gamma = 0.1 C = 1500 epsilon = 0.15 train loss =129.4056961375077 test loss = 353.37349413830975\n",
      "gamma = 0.15 C = 500 epsilon = 0.05 train loss =94.8007067386955 test loss = 429.4491146629011\n",
      "gamma = 0.15 C = 500 epsilon = 0.1 train loss =103.11035835447039 test loss = 376.73417922370567\n",
      "gamma = 0.15 C = 500 epsilon = 0.15 train loss =116.10750587308195 test loss = 366.55644654929745\n",
      "gamma = 0.15 C = 1000.0 epsilon = 0.05 train loss =86.40547893808152 test loss = 499.86902207039185\n",
      "gamma = 0.15 C = 1000.0 epsilon = 0.1 train loss =94.85015641248691 test loss = 473.3371651881737\n",
      "gamma = 0.15 C = 1000.0 epsilon = 0.15 train loss =114.32706791353233 test loss = 460.2116565843178\n",
      "gamma = 0.15 C = 1500 epsilon = 0.05 train loss =81.57869130970519 test loss = 641.3022636492306\n",
      "gamma = 0.15 C = 1500 epsilon = 0.1 train loss =91.25783208794076 test loss = 626.4466560437569\n",
      "gamma = 0.15 C = 1500 epsilon = 0.15 train loss =112.67602581105564 test loss = 600.6919227184301\n"
     ]
    }
   ],
   "source": [
    "mat = np.empty([3,3,3,2])\n",
    "for i,gamma in enumerate([0.05,0.1,0.15]):\n",
    "    for j,C in enumerate([500,1e3,1500]):\n",
    "        for k,epsilon in enumerate([0.05,0.1,0.15]):\n",
    "            svr_rbf_log_sex_test = SVR(kernel='rbf', C=C, gamma=gamma, epsilon=epsilon)\n",
    "            svr_rbf_log_sex_test.fit(X_train, y_train)\n",
    "            \n",
    "            y_train_pred = svr_rbf_log_sex_test.predict(X_train)\n",
    "            y_test_pred =  svr_rbf_log_sex_test.predict(X_test)\n",
    "            \n",
    "            train_loss = np.mean((np.exp(y_train) - np.exp(y_train_pred))**2)\n",
    "            test_loss = np.mean((np.exp(y_test) - np.exp(y_test_pred))**2)\n",
    "            \n",
    "            print('gamma = {} C = {} epsilon = {} train loss ={} test loss = {}'.format(gamma, C, epsilon, train_loss, test_loss))\n",
    "            mat[i,j,k,0] = train_loss\n",
    "            mat[i,j,k,1] = test_loss"
   ]
  },
  {
   "cell_type": "code",
   "execution_count": 33,
   "metadata": {},
   "outputs": [
    {
     "name": "stdout",
     "output_type": "stream",
     "text": [
      "gamma = 0.025 C = 500 epsilon = 0.05 train loss =173.5309195412155 test loss = 207.95502432712797\n",
      "gamma = 0.025 C = 500 epsilon = 0.1 train loss =172.50613505887026 test loss = 211.9408166617084\n",
      "gamma = 0.025 C = 500 epsilon = 0.15 train loss =174.0490911942909 test loss = 205.21566560971112\n",
      "gamma = 0.025 C = 750 epsilon = 0.05 train loss =172.36480133868304 test loss = 215.403949863005\n",
      "gamma = 0.025 C = 750 epsilon = 0.1 train loss =170.7379119551372 test loss = 215.2239868741341\n",
      "gamma = 0.025 C = 750 epsilon = 0.15 train loss =173.04364540279832 test loss = 210.7536281993375\n",
      "gamma = 0.025 C = 1000 epsilon = 0.05 train loss =170.81837622478648 test loss = 218.18168387453844\n",
      "gamma = 0.025 C = 1000 epsilon = 0.1 train loss =169.92360651965026 test loss = 218.70983529096858\n",
      "gamma = 0.025 C = 1000 epsilon = 0.15 train loss =172.66702056133144 test loss = 213.79445915077264\n",
      "gamma = 0.05 C = 500 epsilon = 0.05 train loss =162.7287532126021 test loss = 279.14374322074394\n",
      "gamma = 0.05 C = 500 epsilon = 0.1 train loss =161.58430495529606 test loss = 278.62134321428994\n",
      "gamma = 0.05 C = 500 epsilon = 0.15 train loss =166.7621744264278 test loss = 255.40518305999345\n",
      "gamma = 0.05 C = 750 epsilon = 0.05 train loss =160.30436782658546 test loss = 304.0033663803049\n",
      "gamma = 0.05 C = 750 epsilon = 0.1 train loss =159.9015472427589 test loss = 352.56851538757616\n",
      "gamma = 0.05 C = 750 epsilon = 0.15 train loss =164.38399306770827 test loss = 270.0803321237425\n",
      "gamma = 0.05 C = 1000 epsilon = 0.05 train loss =159.05065096933146 test loss = 354.33336193454693\n",
      "gamma = 0.05 C = 1000 epsilon = 0.1 train loss =158.413402752551 test loss = 395.2911787856813\n",
      "gamma = 0.05 C = 1000 epsilon = 0.15 train loss =162.64756314507082 test loss = 277.5286203966757\n",
      "gamma = 0.075 C = 500 epsilon = 0.05 train loss =146.7065323834247 test loss = 374.83835021839286\n",
      "gamma = 0.075 C = 500 epsilon = 0.1 train loss =146.4479992012049 test loss = 332.5517983844479\n",
      "gamma = 0.075 C = 500 epsilon = 0.15 train loss =152.5454403937363 test loss = 304.73040308072603\n",
      "gamma = 0.075 C = 750 epsilon = 0.05 train loss =142.8681496437254 test loss = 407.5834632496635\n",
      "gamma = 0.075 C = 750 epsilon = 0.1 train loss =141.476182302567 test loss = 343.11308163873457\n",
      "gamma = 0.075 C = 750 epsilon = 0.15 train loss =148.62504413282548 test loss = 326.2332382189747\n",
      "gamma = 0.075 C = 1000 epsilon = 0.05 train loss =140.07696336650622 test loss = 480.18737750723875\n",
      "gamma = 0.075 C = 1000 epsilon = 0.1 train loss =139.1791896452654 test loss = 380.3599787793048\n",
      "gamma = 0.075 C = 1000 epsilon = 0.15 train loss =145.9978521969515 test loss = 328.2512339502562\n"
     ]
    }
   ],
   "source": [
    "mat2 = np.empty([3,3,3,2])\n",
    "for i,gamma in enumerate([0.025,0.05,0.075]):\n",
    "    for j,C in enumerate([500,750,1000]):\n",
    "        for k,epsilon in enumerate([0.05,0.1,0.15]):\n",
    "            svr_rbf_log_sex_test = SVR(kernel='rbf', C=C, gamma=gamma, epsilon=epsilon)\n",
    "            svr_rbf_log_sex_test.fit(X_train, y_train)\n",
    "            \n",
    "            y_train_pred = svr_rbf_log_sex_test.predict(X_train)\n",
    "            y_test_pred =  svr_rbf_log_sex_test.predict(X_test)\n",
    "            \n",
    "            train_loss = np.mean((np.exp(y_train) - np.exp(y_train_pred))**2)\n",
    "            test_loss = np.mean((np.exp(y_test) - np.exp(y_test_pred))**2)\n",
    "            \n",
    "            print('gamma = {} C = {} epsilon = {} train loss ={} test loss = {}'.format(gamma, C, epsilon, train_loss, test_loss))\n",
    "            mat2[i,j,k,0] = train_loss\n",
    "            mat2[i,j,k,1] = test_loss"
   ]
  },
  {
   "cell_type": "code",
   "execution_count": 34,
   "metadata": {},
   "outputs": [
    {
     "name": "stdout",
     "output_type": "stream",
     "text": [
      "gamma = 0.01 C = 500 epsilon = 0.05 train loss =187.37402101973282 test loss = 196.86518478381203\n",
      "gamma = 0.01 C = 500 epsilon = 0.1 train loss =188.6801103761815 test loss = 202.28830446729643\n",
      "gamma = 0.01 C = 500 epsilon = 0.15 train loss =190.930053705017 test loss = 206.0921363265256\n",
      "gamma = 0.01 C = 750 epsilon = 0.05 train loss =185.4375414134833 test loss = 196.11903532814492\n",
      "gamma = 0.01 C = 750 epsilon = 0.1 train loss =187.74394653487158 test loss = 203.5078878350234\n",
      "gamma = 0.01 C = 750 epsilon = 0.15 train loss =189.3201214042461 test loss = 204.67946095122016\n",
      "gamma = 0.01 C = 1000 epsilon = 0.05 train loss =184.5098443082765 test loss = 197.09204040406945\n",
      "gamma = 0.01 C = 1000 epsilon = 0.1 train loss =187.21849883585128 test loss = 204.31265608720156\n",
      "gamma = 0.01 C = 1000 epsilon = 0.15 train loss =188.0000255844576 test loss = 204.45387992470972\n",
      "gamma = 0.02 C = 500 epsilon = 0.05 train loss =179.5519276204166 test loss = 206.36685300230522\n",
      "gamma = 0.02 C = 500 epsilon = 0.1 train loss =176.9850293349618 test loss = 199.61607069371624\n",
      "gamma = 0.02 C = 500 epsilon = 0.15 train loss =177.1811686157677 test loss = 199.28911815272411\n",
      "gamma = 0.02 C = 750 epsilon = 0.05 train loss =176.9456627190218 test loss = 212.06525321740702\n",
      "gamma = 0.02 C = 750 epsilon = 0.1 train loss =174.70988867548957 test loss = 202.28745496529316\n",
      "gamma = 0.02 C = 750 epsilon = 0.15 train loss =176.01616070178585 test loss = 201.718544455537\n",
      "gamma = 0.02 C = 1000 epsilon = 0.05 train loss =175.57198350983404 test loss = 212.17009664132132\n",
      "gamma = 0.02 C = 1000 epsilon = 0.1 train loss =173.86971996190502 test loss = 205.44932126088548\n",
      "gamma = 0.02 C = 1000 epsilon = 0.15 train loss =175.44163189199622 test loss = 204.34699623064571\n",
      "gamma = 0.03 C = 500 epsilon = 0.05 train loss =170.9136734601084 test loss = 218.8316159223372\n",
      "gamma = 0.03 C = 500 epsilon = 0.1 train loss =169.64745020737956 test loss = 216.67580996985976\n",
      "gamma = 0.03 C = 500 epsilon = 0.15 train loss =172.2704365144762 test loss = 216.48865990615985\n",
      "gamma = 0.03 C = 750 epsilon = 0.05 train loss =169.0952279019533 test loss = 229.42899475229953\n",
      "gamma = 0.03 C = 750 epsilon = 0.1 train loss =168.8092044146392 test loss = 223.1188808589698\n",
      "gamma = 0.03 C = 750 epsilon = 0.15 train loss =171.47509771106226 test loss = 221.66529146904364\n",
      "gamma = 0.03 C = 1000 epsilon = 0.05 train loss =168.1499187715399 test loss = 238.81532507778448\n",
      "gamma = 0.03 C = 1000 epsilon = 0.1 train loss =167.9825875526743 test loss = 229.8756147037375\n",
      "gamma = 0.03 C = 1000 epsilon = 0.15 train loss =170.63429824895786 test loss = 227.05415343344288\n"
     ]
    }
   ],
   "source": [
    "mat3 = np.empty([3,3,3,2])\n",
    "for i,gamma in enumerate([0.01,0.02,0.03]):\n",
    "    for j,C in enumerate([500,750,1000]):\n",
    "        for k,epsilon in enumerate([0.05,0.1,0.15]):\n",
    "            svr_rbf_log_sex_test = SVR(kernel='rbf', C=C, gamma=gamma, epsilon=epsilon)\n",
    "            svr_rbf_log_sex_test.fit(X_train, y_train)\n",
    "            \n",
    "            y_train_pred = svr_rbf_log_sex_test.predict(X_train)\n",
    "            y_test_pred =  svr_rbf_log_sex_test.predict(X_test)\n",
    "            \n",
    "            train_loss = np.mean((np.exp(y_train) - np.exp(y_train_pred))**2)\n",
    "            test_loss = np.mean((np.exp(y_test) - np.exp(y_test_pred))**2)\n",
    "            \n",
    "            print('gamma = {} C = {} epsilon = {} train loss ={} test loss = {}'.format(gamma, C, epsilon, train_loss, test_loss))\n",
    "            mat3[i,j,k,0] = train_loss\n",
    "            mat3[i,j,k,1] = test_loss"
   ]
  },
  {
   "cell_type": "code",
   "execution_count": 35,
   "metadata": {},
   "outputs": [
    {
     "name": "stdout",
     "output_type": "stream",
     "text": [
      "gamma = 1e-05 C = 500 epsilon = 0.05 train loss =205.7840238324065 test loss = 192.505546064265\n",
      "gamma = 1e-05 C = 500 epsilon = 0.1 train loss =207.3699290258895 test loss = 194.1446823419283\n",
      "gamma = 1e-05 C = 500 epsilon = 0.15 train loss =208.39508910215847 test loss = 195.52176982890728\n",
      "gamma = 1e-05 C = 750 epsilon = 0.05 train loss =205.33640430430128 test loss = 193.44650232794228\n",
      "gamma = 1e-05 C = 750 epsilon = 0.1 train loss =206.32210100949055 test loss = 194.6831347149918\n",
      "gamma = 1e-05 C = 750 epsilon = 0.15 train loss =207.60071190985502 test loss = 196.07520683096072\n",
      "gamma = 1e-05 C = 1000 epsilon = 0.05 train loss =205.28187905279253 test loss = 194.02685258755878\n",
      "gamma = 1e-05 C = 1000 epsilon = 0.1 train loss =205.96919970609193 test loss = 194.98073489309482\n",
      "gamma = 1e-05 C = 1000 epsilon = 0.15 train loss =207.3756040582272 test loss = 196.6080300236742\n",
      "gamma = 0.006 C = 500 epsilon = 0.05 train loss =191.9343065226047 test loss = 197.1674352929921\n",
      "gamma = 0.006 C = 500 epsilon = 0.1 train loss =193.02960530761763 test loss = 199.81527154435355\n",
      "gamma = 0.006 C = 500 epsilon = 0.15 train loss =192.97077964918552 test loss = 200.89213277640656\n",
      "gamma = 0.006 C = 750 epsilon = 0.05 train loss =191.48387930284025 test loss = 196.68177784434113\n",
      "gamma = 0.006 C = 750 epsilon = 0.1 train loss =192.3577057670914 test loss = 201.39351080527385\n",
      "gamma = 0.006 C = 750 epsilon = 0.15 train loss =191.74909433765768 test loss = 200.83248006819218\n",
      "gamma = 0.006 C = 1000 epsilon = 0.05 train loss =190.95204592969495 test loss = 197.49357853701662\n",
      "gamma = 0.006 C = 1000 epsilon = 0.1 train loss =191.53577604017957 test loss = 202.1975692322849\n",
      "gamma = 0.006 C = 1000 epsilon = 0.15 train loss =191.34711388101036 test loss = 201.03747491160652\n",
      "gamma = 0.012 C = 500 epsilon = 0.05 train loss =184.48321901760542 test loss = 196.41600665861145\n",
      "gamma = 0.012 C = 500 epsilon = 0.1 train loss =186.2826640724288 test loss = 203.1971184636337\n",
      "gamma = 0.012 C = 500 epsilon = 0.15 train loss =187.36537058011177 test loss = 204.10696662432218\n",
      "gamma = 0.012 C = 750 epsilon = 0.05 train loss =183.5641994281449 test loss = 196.80707550721405\n",
      "gamma = 0.012 C = 750 epsilon = 0.1 train loss =184.7053400544257 test loss = 200.84134372043346\n",
      "gamma = 0.012 C = 750 epsilon = 0.15 train loss =186.17965431995384 test loss = 204.85430529850973\n",
      "gamma = 0.012 C = 1000 epsilon = 0.05 train loss =183.1184009940581 test loss = 197.04287155657602\n",
      "gamma = 0.012 C = 1000 epsilon = 0.1 train loss =183.74245258453266 test loss = 201.18750131388802\n",
      "gamma = 0.012 C = 1000 epsilon = 0.15 train loss =184.82141889031402 test loss = 204.1658970239385\n"
     ]
    }
   ],
   "source": [
    "mat3 = np.empty([3,3,3,2])\n",
    "for i,gamma in enumerate([0.00001,0.006,0.012]):\n",
    "    for j,C in enumerate([500,750,1000]):\n",
    "        for k,epsilon in enumerate([0.05,0.1,0.15]):\n",
    "            svr_rbf_log_sex_test = SVR(kernel='rbf', C=C, gamma=gamma, epsilon=epsilon)\n",
    "            svr_rbf_log_sex_test.fit(X_train, y_train)\n",
    "            \n",
    "            y_train_pred = svr_rbf_log_sex_test.predict(X_train)\n",
    "            y_test_pred =  svr_rbf_log_sex_test.predict(X_test)\n",
    "            \n",
    "            train_loss = np.mean((np.exp(y_train) - np.exp(y_train_pred))**2)\n",
    "            test_loss = np.mean((np.exp(y_test) - np.exp(y_test_pred))**2)\n",
    "            \n",
    "            print('gamma = {} C = {} epsilon = {} train loss ={} test loss = {}'.format(gamma, C, epsilon, train_loss, test_loss))\n",
    "            mat3[i,j,k,0] = train_loss\n",
    "            mat3[i,j,k,1] = test_loss"
   ]
  },
  {
   "cell_type": "code",
   "execution_count": 36,
   "metadata": {},
   "outputs": [
    {
     "name": "stdout",
     "output_type": "stream",
     "text": [
      "gamma = 0.005 C = 250 epsilon = 0.075 train loss =195.2229429422545 test loss = 197.4751383242691\n",
      "gamma = 0.005 C = 250 epsilon = 0.1 train loss =194.97076998275236 test loss = 198.02599766035885\n",
      "gamma = 0.005 C = 250 epsilon = 0.125 train loss =195.52313700965877 test loss = 201.56784415855216\n",
      "gamma = 0.005 C = 500 epsilon = 0.075 train loss =194.28294253086955 test loss = 197.90353591781556\n",
      "gamma = 0.005 C = 500 epsilon = 0.1 train loss =194.79012458444618 test loss = 200.35451000499995\n",
      "gamma = 0.005 C = 500 epsilon = 0.125 train loss =194.25364558965813 test loss = 201.15959198172186\n",
      "gamma = 0.005 C = 750 epsilon = 0.075 train loss =193.83816197118483 test loss = 200.21466359583815\n",
      "gamma = 0.005 C = 750 epsilon = 0.1 train loss =194.01911717293055 test loss = 198.4020863804242\n",
      "gamma = 0.005 C = 750 epsilon = 0.125 train loss =193.96284692236168 test loss = 200.64420491496966\n",
      "gamma = 0.006 C = 250 epsilon = 0.075 train loss =194.17662605827132 test loss = 200.404888260327\n",
      "gamma = 0.006 C = 250 epsilon = 0.1 train loss =193.72063356938745 test loss = 199.57198313251135\n",
      "gamma = 0.006 C = 250 epsilon = 0.125 train loss =193.717371146051 test loss = 201.1662540118872\n",
      "gamma = 0.006 C = 500 epsilon = 0.075 train loss =192.69712469070961 test loss = 199.9321363397885\n",
      "gamma = 0.006 C = 500 epsilon = 0.1 train loss =193.02960530761763 test loss = 199.81527154435355\n",
      "gamma = 0.006 C = 500 epsilon = 0.125 train loss =192.39146648469546 test loss = 201.18456765480153\n",
      "gamma = 0.006 C = 750 epsilon = 0.075 train loss =192.07410482871202 test loss = 199.38057125989718\n",
      "gamma = 0.006 C = 750 epsilon = 0.1 train loss =192.3577057670914 test loss = 201.39351080527385\n",
      "gamma = 0.006 C = 750 epsilon = 0.125 train loss =191.82409573089365 test loss = 201.63564808837563\n",
      "gamma = 0.007 C = 250 epsilon = 0.075 train loss =192.16143935230937 test loss = 199.8223982400582\n",
      "gamma = 0.007 C = 250 epsilon = 0.1 train loss =192.69115057989052 test loss = 200.224392455447\n",
      "gamma = 0.007 C = 250 epsilon = 0.125 train loss =192.45555490429237 test loss = 200.51183191288592\n",
      "gamma = 0.007 C = 500 epsilon = 0.075 train loss =191.33069325018528 test loss = 200.02993059548413\n",
      "gamma = 0.007 C = 500 epsilon = 0.1 train loss =191.09582200525824 test loss = 202.17238739519473\n",
      "gamma = 0.007 C = 500 epsilon = 0.125 train loss =191.53388335943734 test loss = 202.59421619892817\n",
      "gamma = 0.007 C = 750 epsilon = 0.075 train loss =190.52257505282049 test loss = 200.4949491143045\n",
      "gamma = 0.007 C = 750 epsilon = 0.1 train loss =190.70164036965275 test loss = 203.24632095319856\n",
      "gamma = 0.007 C = 750 epsilon = 0.125 train loss =190.98135168801807 test loss = 200.63031136226294\n"
     ]
    }
   ],
   "source": [
    "mat3 = np.empty([3,3,3,2])\n",
    "for i,gamma in enumerate([0.005,0.006,0.007]):\n",
    "    for j,C in enumerate([250, 500,750]):\n",
    "        for k,epsilon in enumerate([0.075,0.1,0.125]):\n",
    "            svr_rbf_log_sex_test = SVR(kernel='rbf', C=C, gamma=gamma, epsilon=epsilon)\n",
    "            svr_rbf_log_sex_test.fit(X_train, y_train)\n",
    "            \n",
    "            y_train_pred = svr_rbf_log_sex_test.predict(X_train)\n",
    "            y_test_pred =  svr_rbf_log_sex_test.predict(X_test)\n",
    "            \n",
    "            train_loss = np.mean((np.exp(y_train) - np.exp(y_train_pred))**2)\n",
    "            test_loss = np.mean((np.exp(y_test) - np.exp(y_test_pred))**2)\n",
    "            \n",
    "            print('gamma = {} C = {} epsilon = {} train loss ={} test loss = {}'.format(gamma, C, epsilon, train_loss, test_loss))\n",
    "            mat3[i,j,k,0] = train_loss\n",
    "            mat3[i,j,k,1] = test_loss"
   ]
  },
  {
   "cell_type": "code",
   "execution_count": 43,
   "metadata": {},
   "outputs": [
    {
     "data": {
      "text/plain": [
       "True"
      ]
     },
     "execution_count": 43,
     "metadata": {},
     "output_type": "execute_result"
    }
   ],
   "source": [
    "1e-05 == 0.00001"
   ]
  },
  {
   "cell_type": "markdown",
   "metadata": {},
   "source": [
    "目前最好的是\n",
    "```\n",
    "gamma = 1e-05 C = 500 epsilon = 0.05 train loss =205.7840238324065 test loss = 192.505546064265\n",
    "```"
   ]
  },
  {
   "cell_type": "code",
   "execution_count": 46,
   "metadata": {},
   "outputs": [
    {
     "name": "stdout",
     "output_type": "stream",
     "text": [
      "gamma = 1e-06 C = 400 epsilon = 0.025 train loss =306.9827990484481 test loss = 263.962156639115\n",
      "gamma = 1e-06 C = 400 epsilon = 0.05 train loss =307.93915782868413 test loss = 264.5779388166863\n",
      "gamma = 1e-06 C = 400 epsilon = 0.075 train loss =309.58836372018226 test loss = 266.0672393948384\n",
      "gamma = 1e-06 C = 500 epsilon = 0.025 train loss =280.9184034707988 test loss = 243.38899262329917\n",
      "gamma = 1e-06 C = 500 epsilon = 0.05 train loss =284.6917487215257 test loss = 246.33895630159438\n",
      "gamma = 1e-06 C = 500 epsilon = 0.075 train loss =283.99516937063083 test loss = 246.697428561091\n",
      "gamma = 1e-06 C = 600 epsilon = 0.025 train loss =265.9778585867699 test loss = 232.10206136297046\n",
      "gamma = 1e-06 C = 600 epsilon = 0.05 train loss =264.94516260895455 test loss = 231.51552248160868\n",
      "gamma = 1e-06 C = 600 epsilon = 0.075 train loss =267.2165446653172 test loss = 233.4360453941598\n",
      "gamma = 1e-05 C = 400 epsilon = 0.025 train loss =206.21408759615701 test loss = 191.72241089410926\n",
      "gamma = 1e-05 C = 400 epsilon = 0.05 train loss =206.15897138687419 test loss = 192.18300067959007\n",
      "gamma = 1e-05 C = 400 epsilon = 0.075 train loss =206.95128618987948 test loss = 192.89033650482617\n",
      "gamma = 1e-05 C = 500 epsilon = 0.025 train loss =205.37353374891723 test loss = 192.0398335029819\n",
      "gamma = 1e-05 C = 500 epsilon = 0.05 train loss =205.7840238324065 test loss = 192.505546064265\n",
      "gamma = 1e-05 C = 500 epsilon = 0.075 train loss =206.3910704159413 test loss = 193.02206313096409\n",
      "gamma = 1e-05 C = 600 epsilon = 0.025 train loss =205.10909586997496 test loss = 192.5153501962936\n",
      "gamma = 1e-05 C = 600 epsilon = 0.05 train loss =205.45382512002556 test loss = 193.10232430141664\n",
      "gamma = 1e-05 C = 600 epsilon = 0.075 train loss =206.09667272299333 test loss = 193.33500661353878\n",
      "gamma = 2e-05 C = 400 epsilon = 0.025 train loss =205.10585041942144 test loss = 193.04763444006826\n",
      "gamma = 2e-05 C = 400 epsilon = 0.05 train loss =205.2322416784809 test loss = 193.22084172976776\n",
      "gamma = 2e-05 C = 400 epsilon = 0.075 train loss =206.0192549057047 test loss = 193.79328437579292\n",
      "gamma = 2e-05 C = 500 epsilon = 0.025 train loss =205.0074719392858 test loss = 193.35719867618212\n",
      "gamma = 2e-05 C = 500 epsilon = 0.05 train loss =205.26108173730427 test loss = 193.82079224420207\n",
      "gamma = 2e-05 C = 500 epsilon = 0.075 train loss =206.07097433998285 test loss = 194.86624414753499\n",
      "gamma = 2e-05 C = 600 epsilon = 0.025 train loss =204.98750475304948 test loss = 194.3332110781543\n",
      "gamma = 2e-05 C = 600 epsilon = 0.05 train loss =205.50536673771936 test loss = 194.57045532542978\n",
      "gamma = 2e-05 C = 600 epsilon = 0.075 train loss =205.966105732988 test loss = 194.9368654672428\n"
     ]
    }
   ],
   "source": [
    "mat3 = np.empty([3,3,3,2])\n",
    "for i,gamma in enumerate([0.000001,0.00001,0.00002]):\n",
    "    for j,C in enumerate([400, 500,600]):\n",
    "        for k,epsilon in enumerate([0.025,0.05,0.075]):\n",
    "            svr_rbf_log_sex_test = SVR(kernel='rbf', C=C, gamma=gamma, epsilon=epsilon)\n",
    "            svr_rbf_log_sex_test.fit(X_train, y_train)\n",
    "            \n",
    "            y_train_pred = svr_rbf_log_sex_test.predict(X_train)\n",
    "            y_test_pred =  svr_rbf_log_sex_test.predict(X_test)\n",
    "            \n",
    "            train_loss = np.mean((np.exp(y_train) - np.exp(y_train_pred))**2)\n",
    "            test_loss = np.mean((np.exp(y_test) - np.exp(y_test_pred))**2)\n",
    "            \n",
    "            print('gamma = {} C = {} epsilon = {} train loss ={} test loss = {}'.format(gamma, C, epsilon, train_loss, test_loss))\n",
    "            mat3[i,j,k,0] = train_loss\n",
    "            mat3[i,j,k,1] = test_loss"
   ]
  },
  {
   "cell_type": "markdown",
   "metadata": {},
   "source": [
    "gamma = 1e-05 C = 400 epsilon = 0.025 train loss =206.21408759615701 test loss = 191.72241089410926"
   ]
  },
  {
   "cell_type": "code",
   "execution_count": null,
   "metadata": {},
   "outputs": [],
   "source": []
  }
 ],
 "metadata": {
  "kernelspec": {
   "display_name": "Python 3",
   "language": "python",
   "name": "python3"
  },
  "language_info": {
   "codemirror_mode": {
    "name": "ipython",
    "version": 3
   },
   "file_extension": ".py",
   "mimetype": "text/x-python",
   "name": "python",
   "nbconvert_exporter": "python",
   "pygments_lexer": "ipython3",
   "version": "3.6.5"
  }
 },
 "nbformat": 4,
 "nbformat_minor": 2
}
