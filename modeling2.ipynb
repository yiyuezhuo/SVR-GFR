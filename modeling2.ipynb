{
 "cells": [
  {
   "cell_type": "markdown",
   "metadata": {},
   "source": [
    "话说按照原始径向基函数那个定义，明显会造成一个feature冲掉另一个feature的影响（scale不一致），而为了使用libsvm内部的rbf机制，只能我自己先标准化了。y也要标准化，然后回归SVR过的值。这个对线性回归倒好像没有影响，记得计量经济学就讨论过先标准化对结果有什么影响。"
   ]
  },
  {
   "cell_type": "code",
   "execution_count": 1,
   "metadata": {},
   "outputs": [],
   "source": [
    "import pandas as pd\n",
    "import numpy as np\n",
    "from sklearn.linear_model import LinearRegression\n",
    "from sklearn.svm import SVR\n",
    "from sklearn.model_selection import train_test_split\n",
    "import matplotlib.pyplot as plt\n",
    "import pickle\n",
    "import os\n",
    "\n",
    "from empirical_formulas import apply_formulas, func_name_list\n"
   ]
  },
  {
   "cell_type": "code",
   "execution_count": 2,
   "metadata": {},
   "outputs": [
    {
     "data": {
      "text/plain": [
       "(1197, 6)"
      ]
     },
     "execution_count": 2,
     "metadata": {},
     "output_type": "execute_result"
    }
   ],
   "source": [
    "df = pd.read_excel('GFR-SVR数据.xls')\n",
    "df.columns = ['id', 'age', 'sex', 'rGFR', 'Scr', 'Cys']\n",
    "df.shape"
   ]
  },
  {
   "cell_type": "code",
   "execution_count": 3,
   "metadata": {},
   "outputs": [
    {
     "data": {
      "text/plain": [
       "(1188, 6)"
      ]
     },
     "execution_count": 3,
     "metadata": {},
     "output_type": "execute_result"
    }
   ],
   "source": [
    "df['Cys'] = pd.to_numeric(df['Cys'], errors='coerce')\n",
    "df=df.dropna()\n",
    "df.shape"
   ]
  },
  {
   "cell_type": "code",
   "execution_count": 4,
   "metadata": {},
   "outputs": [
    {
     "data": {
      "text/plain": [
       "(1081, 6)"
      ]
     },
     "execution_count": 4,
     "metadata": {},
     "output_type": "execute_result"
    }
   ],
   "source": [
    "df = df[(18<df['age']) & (df['age']<=100) & (1<=df['sex']) & (df['sex']<=2) & (5 <= df['rGFR']) & (df['rGFR'] <= 150) & \\\n",
    "       (0.0 <= df['Scr']) & (df['Scr'] <= 3000) & (0.2 <= df['Cys']) & (df['Cys'] < 5.0)]\n",
    "df.shape"
   ]
  },
  {
   "cell_type": "code",
   "execution_count": 5,
   "metadata": {},
   "outputs": [],
   "source": [
    "mean = df[['rGFR','age', 'Scr', 'Cys']].mean()"
   ]
  },
  {
   "cell_type": "code",
   "execution_count": 6,
   "metadata": {},
   "outputs": [
    {
     "data": {
      "text/plain": [
       "rGFR    66.467523\n",
       "age     55.328400\n",
       "Scr      1.640316\n",
       "Cys      1.633626\n",
       "dtype: float64"
      ]
     },
     "execution_count": 6,
     "metadata": {},
     "output_type": "execute_result"
    }
   ],
   "source": [
    "mean"
   ]
  },
  {
   "cell_type": "code",
   "execution_count": 7,
   "metadata": {},
   "outputs": [
    {
     "data": {
      "text/plain": [
       "rGFR    29.007529\n",
       "age     16.230584\n",
       "Scr      1.529761\n",
       "Cys      0.970992\n",
       "dtype: float64"
      ]
     },
     "execution_count": 7,
     "metadata": {},
     "output_type": "execute_result"
    }
   ],
   "source": [
    "std = df[['rGFR','age', 'Scr', 'Cys']].std()\n",
    "std"
   ]
  },
  {
   "cell_type": "code",
   "execution_count": 8,
   "metadata": {},
   "outputs": [],
   "source": [
    "dfs = (df[['rGFR', 'age', 'Scr', 'Cys']] - mean)/std"
   ]
  },
  {
   "cell_type": "code",
   "execution_count": 9,
   "metadata": {},
   "outputs": [],
   "source": [
    "dfs['sex'] = df['sex']"
   ]
  },
  {
   "cell_type": "code",
   "execution_count": 10,
   "metadata": {},
   "outputs": [
    {
     "data": {
      "text/plain": [
       "rGFR   -4.005430e-16\n",
       "age    -6.732203e-17\n",
       "Scr     3.380994e-16\n",
       "Cys     1.232440e-17\n",
       "sex     1.356152e+00\n",
       "dtype: float64"
      ]
     },
     "execution_count": 10,
     "metadata": {},
     "output_type": "execute_result"
    }
   ],
   "source": [
    "dfs.mean()"
   ]
  },
  {
   "cell_type": "code",
   "execution_count": 11,
   "metadata": {},
   "outputs": [
    {
     "data": {
      "text/plain": [
       "rGFR    1.000000\n",
       "age     1.000000\n",
       "Scr     1.000000\n",
       "Cys     1.000000\n",
       "sex     0.479082\n",
       "dtype: float64"
      ]
     },
     "execution_count": 11,
     "metadata": {},
     "output_type": "execute_result"
    }
   ],
   "source": [
    "dfs.std()"
   ]
  },
  {
   "cell_type": "code",
   "execution_count": 12,
   "metadata": {},
   "outputs": [],
   "source": [
    "X = dfs[['age', 'Scr', 'Cys']]\n",
    "y = dfs['rGFR']"
   ]
  },
  {
   "cell_type": "code",
   "execution_count": 13,
   "metadata": {},
   "outputs": [],
   "source": [
    "X_train, X_test, y_train, y_test = train_test_split(X, y, test_size=0.2, random_state=51)"
   ]
  },
  {
   "cell_type": "code",
   "execution_count": 14,
   "metadata": {},
   "outputs": [
    {
     "data": {
      "text/plain": [
       "SVR(C=1.0, cache_size=200, coef0=0.0, degree=3, epsilon=0.1, gamma='auto',\n",
       "  kernel='rbf', max_iter=-1, shrinking=True, tol=0.001, verbose=False)"
      ]
     },
     "execution_count": 14,
     "metadata": {},
     "output_type": "execute_result"
    }
   ],
   "source": [
    "svr = SVR(kernel='rbf') # all deafult\n",
    "svr.fit(X_train, y_train)"
   ]
  },
  {
   "cell_type": "code",
   "execution_count": 15,
   "metadata": {},
   "outputs": [],
   "source": [
    "y_train_pred = svr.predict(X_train)\n",
    "y_test_pred = svr.predict(X_test)\n",
    "\n"
   ]
  },
  {
   "cell_type": "code",
   "execution_count": 16,
   "metadata": {},
   "outputs": [
    {
     "name": "stdout",
     "output_type": "stream",
     "text": [
      "y_train_pred(normalized) 0.23368467035385598\n"
     ]
    }
   ],
   "source": [
    "print('y_train_pred(normalized)', np.mean((y_train_pred - y_train)**2))"
   ]
  },
  {
   "cell_type": "code",
   "execution_count": 17,
   "metadata": {},
   "outputs": [
    {
     "name": "stdout",
     "output_type": "stream",
     "text": [
      "y_train_pred(normalized) 196.6308686160882\n"
     ]
    }
   ],
   "source": [
    "print('y_train_pred(normalized)', np.mean(((std['rGFR']*y_train_pred + mean['rGFR']) - (std['rGFR']*y_train + mean['rGFR']))**2))"
   ]
  },
  {
   "cell_type": "code",
   "execution_count": 18,
   "metadata": {},
   "outputs": [
    {
     "name": "stdout",
     "output_type": "stream",
     "text": [
      "y_test_pred(normalized) 0.221726594411519\n"
     ]
    }
   ],
   "source": [
    "print('y_test_pred(normalized)', np.mean((y_test_pred - y_test)**2))"
   ]
  },
  {
   "cell_type": "code",
   "execution_count": 19,
   "metadata": {},
   "outputs": [
    {
     "name": "stdout",
     "output_type": "stream",
     "text": [
      "y_test_pred(normalized) 186.56890410657033\n"
     ]
    }
   ],
   "source": [
    "print('y_test_pred(normalized)', np.mean(((std['rGFR']*y_test_pred + mean['rGFR']) - (std['rGFR']*y_test + mean['rGFR']))**2))"
   ]
  },
  {
   "cell_type": "code",
   "execution_count": null,
   "metadata": {},
   "outputs": [],
   "source": [
    "'''\n",
    "svr_rbf = SVR(kernel='rbf', C=100, gamma='auto', epsilon=.1)\n",
    "svr_lin = SVR(kernel='linear', C=100, gamma='auto')\n",
    "svr_poly = SVR(kernel='poly', C=100, gamma='auto', degree=3, epsilon=.1,\n",
    "               coef0=1)\n",
    "'''\n",
    "svr_rbf = SVR(kernel='rbf')\n",
    "svr_lin = SVR(kernel='linear')\n",
    "svr_poly = SVR(kernel='poly')\n",
    "\n",
    "y_rbf = svr_rbf.fit(X, y).predict(X)\n",
    "y_lin = svr_lin.fit(X, y).predict(X)\n",
    "y_poly = svr_poly.fit(X, y).predict(X)\n"
   ]
  },
  {
   "cell_type": "code",
   "execution_count": 22,
   "metadata": {},
   "outputs": [
    {
     "name": "stdout",
     "output_type": "stream",
     "text": [
      "method = rbf tr_l =0.2337 te_l = 0.2217 tr_lr = 196.6309 te_lr = 186.5689\n",
      "method = linear tr_l =0.3465 te_l = 0.3335 tr_lr = 291.5839 te_lr = 280.6250\n",
      "method = poly tr_l =0.6180 te_l = 0.5355 tr_lr = 519.9700 te_lr = 450.6211\n"
     ]
    }
   ],
   "source": [
    "for method in ['rbf', 'linear', 'poly']:\n",
    "    model = SVR(kernel = method)\n",
    "    model.fit(X_train, y_train)\n",
    "    \n",
    "    y_train_pred = model.predict(X_train)\n",
    "    y_test_pred =  model.predict(X_test)\n",
    "\n",
    "    train_loss = np.mean((y_train -y_train_pred)**2)\n",
    "    test_loss = np.mean((y_test - y_test_pred)**2)\n",
    "\n",
    "    train_loss_re = np.mean(((std['rGFR']*y_train_pred + mean['rGFR']) - (std['rGFR']*y_train + mean['rGFR']))**2)\n",
    "    test_loss_re =  np.mean(((std['rGFR']*y_test_pred + mean['rGFR']) - (std['rGFR']*y_test + mean['rGFR']))**2)\n",
    "\n",
    "    print('method = {} tr_l ={:.4f} te_l = {:.4f} tr_lr = {:.4f} te_lr = {:.4f}'.format(method, \\\n",
    "                                train_loss, test_loss, train_loss_re, test_loss_re))\n"
   ]
  },
  {
   "cell_type": "code",
   "execution_count": 21,
   "metadata": {},
   "outputs": [
    {
     "name": "stdout",
     "output_type": "stream",
     "text": [
      "ga = 0.1 C = 0.1 eps = 0.05 tr_l =0.2690 te_l = 0.2509 tr_lr = 226.3662 te_lr = 211.1428\n",
      "ga = 0.1 C = 0.1 eps = 0.1 tr_l =0.2689 te_l = 0.2505 tr_lr = 226.2250 te_lr = 210.7486\n",
      "ga = 0.1 C = 0.1 eps = 0.15 tr_l =0.2697 te_l = 0.2513 tr_lr = 226.9285 te_lr = 211.4691\n",
      "ga = 0.1 C = 1.0 eps = 0.05 tr_l =0.2382 te_l = 0.2224 tr_lr = 200.4690 te_lr = 187.1667\n",
      "ga = 0.1 C = 1.0 eps = 0.1 tr_l =0.2379 te_l = 0.2223 tr_lr = 200.1583 te_lr = 187.0890\n",
      "ga = 0.1 C = 1.0 eps = 0.15 tr_l =0.2378 te_l = 0.2230 tr_lr = 200.1244 te_lr = 187.6227\n",
      "ga = 0.1 C = 10 eps = 0.05 tr_l =0.2334 te_l = 0.2195 tr_lr = 196.3819 te_lr = 184.6538\n",
      "ga = 0.1 C = 10 eps = 0.1 tr_l =0.2331 te_l = 0.2207 tr_lr = 196.1441 te_lr = 185.7432\n",
      "ga = 0.1 C = 10 eps = 0.15 tr_l =0.2335 te_l = 0.2235 tr_lr = 196.5160 te_lr = 188.0779\n",
      "ga = 1.0 C = 0.1 eps = 0.05 tr_l =0.2561 te_l = 0.2354 tr_lr = 215.4772 te_lr = 198.0930\n",
      "ga = 1.0 C = 0.1 eps = 0.1 tr_l =0.2564 te_l = 0.2356 tr_lr = 215.7697 te_lr = 198.2329\n",
      "ga = 1.0 C = 0.1 eps = 0.15 tr_l =0.2563 te_l = 0.2366 tr_lr = 215.7012 te_lr = 199.0818\n",
      "ga = 1.0 C = 1.0 eps = 0.05 tr_l =0.2255 te_l = 0.2345 tr_lr = 189.7252 te_lr = 197.3544\n",
      "ga = 1.0 C = 1.0 eps = 0.1 tr_l =0.2235 te_l = 0.2347 tr_lr = 188.0492 te_lr = 197.5074\n",
      "ga = 1.0 C = 1.0 eps = 0.15 tr_l =0.2227 te_l = 0.2386 tr_lr = 187.3602 te_lr = 200.7847\n",
      "ga = 1.0 C = 10 eps = 0.05 tr_l =0.2112 te_l = 0.2652 tr_lr = 177.7059 te_lr = 223.1502\n",
      "ga = 1.0 C = 10 eps = 0.1 tr_l =0.2087 te_l = 0.2601 tr_lr = 175.6034 te_lr = 218.8875\n",
      "ga = 1.0 C = 10 eps = 0.15 tr_l =0.2081 te_l = 0.2620 tr_lr = 175.0721 te_lr = 220.4223\n",
      "ga = 10.0 C = 0.1 eps = 0.05 tr_l =0.3723 te_l = 0.3672 tr_lr = 313.2504 te_lr = 308.9461\n",
      "ga = 10.0 C = 0.1 eps = 0.1 tr_l =0.3749 te_l = 0.3696 tr_lr = 315.4176 te_lr = 311.0098\n",
      "ga = 10.0 C = 0.1 eps = 0.15 tr_l =0.3743 te_l = 0.3703 tr_lr = 314.9083 te_lr = 311.6078\n",
      "ga = 10.0 C = 1.0 eps = 0.05 tr_l =0.1781 te_l = 0.2815 tr_lr = 149.8488 te_lr = 236.8471\n",
      "ga = 10.0 C = 1.0 eps = 0.1 tr_l =0.1773 te_l = 0.2771 tr_lr = 149.1999 te_lr = 233.1681\n",
      "ga = 10.0 C = 1.0 eps = 0.15 tr_l =0.1799 te_l = 0.2715 tr_lr = 151.3637 te_lr = 228.4466\n",
      "ga = 10.0 C = 10 eps = 0.05 tr_l =0.1401 te_l = 0.3145 tr_lr = 117.8527 te_lr = 264.6567\n",
      "ga = 10.0 C = 10 eps = 0.1 tr_l =0.1388 te_l = 0.3023 tr_lr = 116.8102 te_lr = 254.3915\n",
      "ga = 10.0 C = 10 eps = 0.15 tr_l =0.1404 te_l = 0.2946 tr_lr = 118.1795 te_lr = 247.8578\n",
      "ga = auto C = 0.1 eps = 0.05 tr_l =0.2524 te_l = 0.2344 tr_lr = 212.3744 te_lr = 197.2672\n",
      "ga = auto C = 0.1 eps = 0.1 tr_l =0.2521 te_l = 0.2344 tr_lr = 212.1288 te_lr = 197.1915\n",
      "ga = auto C = 0.1 eps = 0.15 tr_l =0.2519 te_l = 0.2321 tr_lr = 211.9447 te_lr = 195.3291\n",
      "ga = auto C = 1.0 eps = 0.05 tr_l =0.2342 te_l = 0.2215 tr_lr = 197.0496 te_lr = 186.3650\n",
      "ga = auto C = 1.0 eps = 0.1 tr_l =0.2337 te_l = 0.2217 tr_lr = 196.6309 te_lr = 186.5689\n",
      "ga = auto C = 1.0 eps = 0.15 tr_l =0.2337 te_l = 0.2229 tr_lr = 196.6279 te_lr = 187.5790\n",
      "ga = auto C = 10 eps = 0.05 tr_l =0.2272 te_l = 0.2235 tr_lr = 191.1625 te_lr = 188.0908\n",
      "ga = auto C = 10 eps = 0.1 tr_l =0.2264 te_l = 0.2237 tr_lr = 190.5051 te_lr = 188.2122\n",
      "ga = auto C = 10 eps = 0.15 tr_l =0.2258 te_l = 0.2287 tr_lr = 190.0051 te_lr = 192.4202\n"
     ]
    }
   ],
   "source": [
    "mat = np.empty([4,3,3,2])\n",
    "for i,gamma in enumerate([0.1,1.0, 10.0, 'auto']):\n",
    "    for j,C in enumerate([0.1,1.0,10]):\n",
    "        for k,epsilon in enumerate([0.05,0.1,0.15]):\n",
    "            svr_rbf_log_sex_test = SVR(kernel='rbf', C=C, gamma=gamma, epsilon=epsilon)\n",
    "            svr_rbf_log_sex_test.fit(X_train, y_train)\n",
    "            \n",
    "            y_train_pred = svr_rbf_log_sex_test.predict(X_train)\n",
    "            y_test_pred =  svr_rbf_log_sex_test.predict(X_test)\n",
    "            \n",
    "            train_loss = np.mean((y_train -y_train_pred)**2)\n",
    "            test_loss = np.mean((y_test - y_test_pred)**2)\n",
    "            \n",
    "            train_loss_re = np.mean(((std['rGFR']*y_train_pred + mean['rGFR']) - (std['rGFR']*y_train + mean['rGFR']))**2)\n",
    "            test_loss_re =  np.mean(((std['rGFR']*y_test_pred + mean['rGFR']) - (std['rGFR']*y_test + mean['rGFR']))**2)\n",
    "            \n",
    "            print('ga = {} C = {} eps = {} tr_l ={:.4f} te_l = {:.4f} tr_lr = {:.4f} te_lr = {:.4f}'.format(gamma, C, epsilon, \\\n",
    "                                        train_loss, test_loss, train_loss_re, test_loss_re))\n",
    "            mat[i,j,k,0] = train_loss\n",
    "            mat[i,j,k,1] = test_loss"
   ]
  },
  {
   "cell_type": "code",
   "execution_count": 51,
   "metadata": {},
   "outputs": [
    {
     "name": "stdout",
     "output_type": "stream",
     "text": [
      "nan\n"
     ]
    }
   ],
   "source": [
    "print('{:.4f}'.format(np.nan))"
   ]
  },
  {
   "cell_type": "code",
   "execution_count": 54,
   "metadata": {},
   "outputs": [],
   "source": [
    "def grid_search(gamma_list, C_list, epsilon_list, kernel = 'rbf', verbose=True, y_origin =False):\n",
    "    mat = np.empty([len(gamma_list), len(C_list), len(epsilon_list), 4])\n",
    "    r_list = []\n",
    "    for i,gamma in enumerate(gamma_list):\n",
    "        for j,C in enumerate(C_list):\n",
    "            for k,epsilon in enumerate(epsilon_list):\n",
    "                model = SVR(kernel = kernel, C = C, gamma = gamma, epsilon=epsilon)\n",
    "                \n",
    "                _y_train = y_train if not y_origin else std['rGFR']*y_train + mean['rGFR']\n",
    "                _y_test  = y_test  if not y_origin else std['rGFR']*y_test  + mean['rGFR']\n",
    "                \n",
    "                model.fit(X_train, _y_train)\n",
    "                \n",
    "                _y_train_pred = model.predict(X_train)\n",
    "                _y_test_pred =  model.predict(X_test)\n",
    "\n",
    "                train_loss = np.mean((_y_train - _y_train_pred)**2)\n",
    "                test_loss = np.mean((_y_test - _y_test_pred)**2)\n",
    "                \n",
    "                if not y_origin:\n",
    "                    train_loss_re = np.mean(((std['rGFR']*_y_train_pred + mean['rGFR']) - (std['rGFR']*_y_train + mean['rGFR']))**2)\n",
    "                    test_loss_re =  np.mean(((std['rGFR']*_y_test_pred + mean['rGFR']) - (std['rGFR']*_y_test + mean['rGFR']))**2)\n",
    "                else:\n",
    "                    train_loss_re = np.nan\n",
    "                    test_loss_re = np.nan\n",
    "                \n",
    "                if verbose:\n",
    "                    print('ga = {} C = {} eps = {} tr_l ={:.4f} te_l = {:.4f} tr_lr = {:.4f} te_lr = {:.4f}'.format(gamma, C, epsilon, \\\n",
    "                            train_loss, test_loss, train_loss_re, test_loss_re))\n",
    "                r_list.append([gamma, C, epsilon, train_loss, test_loss, train_loss_re, test_loss_re])\n",
    "                \n",
    "                mat[i,j,k,0] = train_loss\n",
    "                mat[i,j,k,1] = test_loss\n",
    "                mat[i,j,k,2] = train_loss_re\n",
    "                mat[i,j,k,3] = test_loss_re\n",
    "    \n",
    "    return mat,r_list"
   ]
  },
  {
   "cell_type": "code",
   "execution_count": 47,
   "metadata": {},
   "outputs": [
    {
     "name": "stdout",
     "output_type": "stream",
     "text": [
      "ga = 0.1 C = 0.1 eps = 0.05 tr_l =0.2690 te_l = 0.2509 tr_lr = 226.3662 te_lr = 211.1428\n",
      "ga = 0.1 C = 0.1 eps = 0.1 tr_l =0.2689 te_l = 0.2505 tr_lr = 226.2250 te_lr = 210.7486\n",
      "ga = 0.1 C = 0.1 eps = 0.15 tr_l =0.2697 te_l = 0.2513 tr_lr = 226.9285 te_lr = 211.4691\n",
      "ga = 0.1 C = 1.0 eps = 0.05 tr_l =0.2382 te_l = 0.2224 tr_lr = 200.4690 te_lr = 187.1667\n",
      "ga = 0.1 C = 1.0 eps = 0.1 tr_l =0.2379 te_l = 0.2223 tr_lr = 200.1583 te_lr = 187.0890\n",
      "ga = 0.1 C = 1.0 eps = 0.15 tr_l =0.2378 te_l = 0.2230 tr_lr = 200.1244 te_lr = 187.6227\n",
      "ga = 0.1 C = 10 eps = 0.05 tr_l =0.2334 te_l = 0.2195 tr_lr = 196.3819 te_lr = 184.6538\n",
      "ga = 0.1 C = 10 eps = 0.1 tr_l =0.2331 te_l = 0.2207 tr_lr = 196.1441 te_lr = 185.7432\n",
      "ga = 0.1 C = 10 eps = 0.15 tr_l =0.2335 te_l = 0.2235 tr_lr = 196.5160 te_lr = 188.0779\n",
      "ga = 1.0 C = 0.1 eps = 0.05 tr_l =0.2561 te_l = 0.2354 tr_lr = 215.4772 te_lr = 198.0930\n",
      "ga = 1.0 C = 0.1 eps = 0.1 tr_l =0.2564 te_l = 0.2356 tr_lr = 215.7697 te_lr = 198.2329\n",
      "ga = 1.0 C = 0.1 eps = 0.15 tr_l =0.2563 te_l = 0.2366 tr_lr = 215.7012 te_lr = 199.0818\n",
      "ga = 1.0 C = 1.0 eps = 0.05 tr_l =0.2255 te_l = 0.2345 tr_lr = 189.7252 te_lr = 197.3544\n",
      "ga = 1.0 C = 1.0 eps = 0.1 tr_l =0.2235 te_l = 0.2347 tr_lr = 188.0492 te_lr = 197.5074\n",
      "ga = 1.0 C = 1.0 eps = 0.15 tr_l =0.2227 te_l = 0.2386 tr_lr = 187.3602 te_lr = 200.7847\n",
      "ga = 1.0 C = 10 eps = 0.05 tr_l =0.2112 te_l = 0.2652 tr_lr = 177.7059 te_lr = 223.1502\n",
      "ga = 1.0 C = 10 eps = 0.1 tr_l =0.2087 te_l = 0.2601 tr_lr = 175.6034 te_lr = 218.8875\n",
      "ga = 1.0 C = 10 eps = 0.15 tr_l =0.2081 te_l = 0.2620 tr_lr = 175.0721 te_lr = 220.4223\n",
      "ga = 10.0 C = 0.1 eps = 0.05 tr_l =0.3723 te_l = 0.3672 tr_lr = 313.2504 te_lr = 308.9461\n",
      "ga = 10.0 C = 0.1 eps = 0.1 tr_l =0.3749 te_l = 0.3696 tr_lr = 315.4176 te_lr = 311.0098\n",
      "ga = 10.0 C = 0.1 eps = 0.15 tr_l =0.3743 te_l = 0.3703 tr_lr = 314.9083 te_lr = 311.6078\n",
      "ga = 10.0 C = 1.0 eps = 0.05 tr_l =0.1781 te_l = 0.2815 tr_lr = 149.8488 te_lr = 236.8471\n",
      "ga = 10.0 C = 1.0 eps = 0.1 tr_l =0.1773 te_l = 0.2771 tr_lr = 149.1999 te_lr = 233.1681\n",
      "ga = 10.0 C = 1.0 eps = 0.15 tr_l =0.1799 te_l = 0.2715 tr_lr = 151.3637 te_lr = 228.4466\n",
      "ga = 10.0 C = 10 eps = 0.05 tr_l =0.1401 te_l = 0.3145 tr_lr = 117.8527 te_lr = 264.6567\n",
      "ga = 10.0 C = 10 eps = 0.1 tr_l =0.1388 te_l = 0.3023 tr_lr = 116.8102 te_lr = 254.3915\n",
      "ga = 10.0 C = 10 eps = 0.15 tr_l =0.1404 te_l = 0.2946 tr_lr = 118.1795 te_lr = 247.8578\n",
      "ga = auto C = 0.1 eps = 0.05 tr_l =0.2524 te_l = 0.2344 tr_lr = 212.3744 te_lr = 197.2672\n",
      "ga = auto C = 0.1 eps = 0.1 tr_l =0.2521 te_l = 0.2344 tr_lr = 212.1288 te_lr = 197.1915\n",
      "ga = auto C = 0.1 eps = 0.15 tr_l =0.2519 te_l = 0.2321 tr_lr = 211.9447 te_lr = 195.3291\n",
      "ga = auto C = 1.0 eps = 0.05 tr_l =0.2342 te_l = 0.2215 tr_lr = 197.0496 te_lr = 186.3650\n",
      "ga = auto C = 1.0 eps = 0.1 tr_l =0.2337 te_l = 0.2217 tr_lr = 196.6309 te_lr = 186.5689\n",
      "ga = auto C = 1.0 eps = 0.15 tr_l =0.2337 te_l = 0.2229 tr_lr = 196.6279 te_lr = 187.5790\n",
      "ga = auto C = 10 eps = 0.05 tr_l =0.2272 te_l = 0.2235 tr_lr = 191.1625 te_lr = 188.0908\n",
      "ga = auto C = 10 eps = 0.1 tr_l =0.2264 te_l = 0.2237 tr_lr = 190.5051 te_lr = 188.2122\n",
      "ga = auto C = 10 eps = 0.15 tr_l =0.2258 te_l = 0.2287 tr_lr = 190.0051 te_lr = 192.4202\n"
     ]
    }
   ],
   "source": [
    "mat,r_list= grid_search(gamma_list = [0.1,1.0, 10.0, 'auto'], C_list = [0.1,1.0,10], epsilon_list = [0.05,0.1,0.15])"
   ]
  },
  {
   "cell_type": "code",
   "execution_count": 48,
   "metadata": {},
   "outputs": [
    {
     "data": {
      "text/plain": [
       "[[0.1,\n",
       "  10,\n",
       "  0.05,\n",
       "  0.23338876731633734,\n",
       "  0.21945056205201657,\n",
       "  196.38188492706252,\n",
       "  184.65376684416628],\n",
       " [0.1,\n",
       "  10,\n",
       "  0.1,\n",
       "  0.23310618498669694,\n",
       "  0.2207452582731141,\n",
       "  196.14410977112863,\n",
       "  185.74317181952432],\n",
       " ['auto',\n",
       "  1.0,\n",
       "  0.05,\n",
       "  0.23418236636452125,\n",
       "  0.2214842378536577,\n",
       "  197.04964832780735,\n",
       "  186.36497639314837]]"
      ]
     },
     "execution_count": 48,
     "metadata": {},
     "output_type": "execute_result"
    }
   ],
   "source": [
    "sorted(r_list, key=lambda x:x[-1])[:3]"
   ]
  },
  {
   "cell_type": "code",
   "execution_count": 50,
   "metadata": {},
   "outputs": [
    {
     "name": "stdout",
     "output_type": "stream",
     "text": [
      "ga = 0.05 C = 1.0 eps = 0.05 tr_l =0.2475 te_l = 0.2286 tr_lr = 208.2496 te_lr = 192.3305\n",
      "ga = 0.05 C = 1.0 eps = 0.1 tr_l =0.2485 te_l = 0.2303 tr_lr = 209.0988 te_lr = 193.7863\n",
      "ga = 0.05 C = 1.0 eps = 0.15 tr_l =0.2493 te_l = 0.2306 tr_lr = 209.8098 te_lr = 194.0497\n",
      "ga = 0.05 C = 5.0 eps = 0.05 tr_l =0.2386 te_l = 0.2213 tr_lr = 200.8015 te_lr = 186.2492\n",
      "ga = 0.05 C = 5.0 eps = 0.1 tr_l =0.2380 te_l = 0.2222 tr_lr = 200.2694 te_lr = 186.9499\n",
      "ga = 0.05 C = 5.0 eps = 0.15 tr_l =0.2378 te_l = 0.2222 tr_lr = 200.1209 te_lr = 186.9991\n",
      "ga = 0.05 C = 1.0 eps = 0.05 tr_l =0.2475 te_l = 0.2286 tr_lr = 208.2496 te_lr = 192.3305\n",
      "ga = 0.05 C = 1.0 eps = 0.1 tr_l =0.2485 te_l = 0.2303 tr_lr = 209.0988 te_lr = 193.7863\n",
      "ga = 0.05 C = 1.0 eps = 0.15 tr_l =0.2493 te_l = 0.2306 tr_lr = 209.8098 te_lr = 194.0497\n",
      "ga = 0.5 C = 1.0 eps = 0.05 tr_l =0.2319 te_l = 0.2240 tr_lr = 195.0901 te_lr = 188.4747\n",
      "ga = 0.5 C = 1.0 eps = 0.1 tr_l =0.2315 te_l = 0.2235 tr_lr = 194.7670 te_lr = 188.0462\n",
      "ga = 0.5 C = 1.0 eps = 0.15 tr_l =0.2309 te_l = 0.2258 tr_lr = 194.2468 te_lr = 190.0081\n",
      "ga = 0.5 C = 5.0 eps = 0.05 tr_l =0.2251 te_l = 0.2274 tr_lr = 189.3986 te_lr = 191.3504\n",
      "ga = 0.5 C = 5.0 eps = 0.1 tr_l =0.2232 te_l = 0.2287 tr_lr = 187.8184 te_lr = 192.4701\n",
      "ga = 0.5 C = 5.0 eps = 0.15 tr_l =0.2223 te_l = 0.2325 tr_lr = 187.0788 te_lr = 195.6645\n",
      "ga = 0.5 C = 1.0 eps = 0.05 tr_l =0.2319 te_l = 0.2240 tr_lr = 195.0901 te_lr = 188.4747\n",
      "ga = 0.5 C = 1.0 eps = 0.1 tr_l =0.2315 te_l = 0.2235 tr_lr = 194.7670 te_lr = 188.0462\n",
      "ga = 0.5 C = 1.0 eps = 0.15 tr_l =0.2309 te_l = 0.2258 tr_lr = 194.2468 te_lr = 190.0081\n",
      "ga = 1.0 C = 1.0 eps = 0.05 tr_l =0.2255 te_l = 0.2345 tr_lr = 189.7252 te_lr = 197.3544\n",
      "ga = 1.0 C = 1.0 eps = 0.1 tr_l =0.2235 te_l = 0.2347 tr_lr = 188.0492 te_lr = 197.5074\n",
      "ga = 1.0 C = 1.0 eps = 0.15 tr_l =0.2227 te_l = 0.2386 tr_lr = 187.3602 te_lr = 200.7847\n",
      "ga = 1.0 C = 5.0 eps = 0.05 tr_l =0.2154 te_l = 0.2483 tr_lr = 181.2726 te_lr = 208.8933\n",
      "ga = 1.0 C = 5.0 eps = 0.1 tr_l =0.2131 te_l = 0.2469 tr_lr = 179.3016 te_lr = 207.7833\n",
      "ga = 1.0 C = 5.0 eps = 0.15 tr_l =0.2128 te_l = 0.2485 tr_lr = 179.0631 te_lr = 209.1202\n",
      "ga = 1.0 C = 1.0 eps = 0.05 tr_l =0.2255 te_l = 0.2345 tr_lr = 189.7252 te_lr = 197.3544\n",
      "ga = 1.0 C = 1.0 eps = 0.1 tr_l =0.2235 te_l = 0.2347 tr_lr = 188.0492 te_lr = 197.5074\n",
      "ga = 1.0 C = 1.0 eps = 0.15 tr_l =0.2227 te_l = 0.2386 tr_lr = 187.3602 te_lr = 200.7847\n",
      "ga = auto C = 1.0 eps = 0.05 tr_l =0.2342 te_l = 0.2215 tr_lr = 197.0496 te_lr = 186.3650\n",
      "ga = auto C = 1.0 eps = 0.1 tr_l =0.2337 te_l = 0.2217 tr_lr = 196.6309 te_lr = 186.5689\n",
      "ga = auto C = 1.0 eps = 0.15 tr_l =0.2337 te_l = 0.2229 tr_lr = 196.6279 te_lr = 187.5790\n",
      "ga = auto C = 5.0 eps = 0.05 tr_l =0.2292 te_l = 0.2232 tr_lr = 192.8829 te_lr = 187.8030\n",
      "ga = auto C = 5.0 eps = 0.1 tr_l =0.2285 te_l = 0.2235 tr_lr = 192.2363 te_lr = 188.0345\n",
      "ga = auto C = 5.0 eps = 0.15 tr_l =0.2285 te_l = 0.2255 tr_lr = 192.2264 te_lr = 189.7570\n",
      "ga = auto C = 1.0 eps = 0.05 tr_l =0.2342 te_l = 0.2215 tr_lr = 197.0496 te_lr = 186.3650\n",
      "ga = auto C = 1.0 eps = 0.1 tr_l =0.2337 te_l = 0.2217 tr_lr = 196.6309 te_lr = 186.5689\n",
      "ga = auto C = 1.0 eps = 0.15 tr_l =0.2337 te_l = 0.2229 tr_lr = 196.6279 te_lr = 187.5790\n"
     ]
    },
    {
     "data": {
      "text/plain": [
       "[[0.1,\n",
       "  10,\n",
       "  0.05,\n",
       "  0.23338876731633734,\n",
       "  0.21945056205201657,\n",
       "  196.38188492706252,\n",
       "  184.65376684416628],\n",
       " [0.1,\n",
       "  10,\n",
       "  0.1,\n",
       "  0.23310618498669694,\n",
       "  0.2207452582731141,\n",
       "  196.14410977112863,\n",
       "  185.74317181952432],\n",
       " ['auto',\n",
       "  1.0,\n",
       "  0.05,\n",
       "  0.23418236636452125,\n",
       "  0.2214842378536577,\n",
       "  197.04964832780735,\n",
       "  186.36497639314837]]"
      ]
     },
     "execution_count": 50,
     "metadata": {},
     "output_type": "execute_result"
    }
   ],
   "source": [
    "mat = grid_search(gamma_list = [0.05,0.5, 1.0, 'auto'], C_list = [1.0,5.0,1.0], epsilon_list = [0.05,0.1,0.15])\n",
    "sorted(r_list, key=lambda x:x[-1])[:3]"
   ]
  },
  {
   "cell_type": "markdown",
   "metadata": {},
   "source": [
    "这个大致就定成0.1, 10, 0.05了。 test loss 184\n",
    "\n",
    "另外y的尺度要不要标准化是有点疑问的。不要说y若标准化会给后续的处理带来很多不一致的地方。另外在标准化的情况下对数化就不能直接进行了，\n",
    "是先对数化再标准化吗。\n",
    "\n",
    "先试试看y用未标准化版本会怎么样。"
   ]
  },
  {
   "cell_type": "code",
   "execution_count": 56,
   "metadata": {},
   "outputs": [
    {
     "name": "stdout",
     "output_type": "stream",
     "text": [
      "ga = 0.1 C = 0.1 eps = 0.05 tr_l =534.6323 te_l = 503.7067 tr_lr = nan te_lr = nan\n",
      "ga = 0.1 C = 0.1 eps = 0.1 tr_l =535.1436 te_l = 504.2476 tr_lr = nan te_lr = nan\n",
      "ga = 0.1 C = 0.1 eps = 0.15 tr_l =535.1528 te_l = 504.3767 tr_lr = nan te_lr = nan\n",
      "ga = 0.1 C = 1.0 eps = 0.05 tr_l =255.3818 te_l = 242.0037 tr_lr = nan te_lr = nan\n",
      "ga = 0.1 C = 1.0 eps = 0.1 tr_l =255.3925 te_l = 242.1054 tr_lr = nan te_lr = nan\n",
      "ga = 0.1 C = 1.0 eps = 0.15 tr_l =255.4119 te_l = 242.1528 tr_lr = nan te_lr = nan\n",
      "ga = 0.1 C = 10 eps = 0.05 tr_l =206.5622 te_l = 190.8897 tr_lr = nan te_lr = nan\n",
      "ga = 0.1 C = 10 eps = 0.1 tr_l =206.5720 te_l = 190.9080 tr_lr = nan te_lr = nan\n",
      "ga = 0.1 C = 10 eps = 0.15 tr_l =206.4706 te_l = 190.8523 tr_lr = nan te_lr = nan\n",
      "ga = 1.0 C = 0.1 eps = 0.05 tr_l =596.2775 te_l = 544.3851 tr_lr = nan te_lr = nan\n",
      "ga = 1.0 C = 0.1 eps = 0.1 tr_l =595.8391 te_l = 543.8714 tr_lr = nan te_lr = nan\n",
      "ga = 1.0 C = 0.1 eps = 0.15 tr_l =595.6980 te_l = 543.5691 tr_lr = nan te_lr = nan\n",
      "ga = 1.0 C = 1.0 eps = 0.05 tr_l =258.8592 te_l = 230.8444 tr_lr = nan te_lr = nan\n",
      "ga = 1.0 C = 1.0 eps = 0.1 tr_l =258.5981 te_l = 230.5372 tr_lr = nan te_lr = nan\n",
      "ga = 1.0 C = 1.0 eps = 0.15 tr_l =258.4042 te_l = 230.3476 tr_lr = nan te_lr = nan\n",
      "ga = 1.0 C = 10 eps = 0.05 tr_l =196.9122 te_l = 192.9644 tr_lr = nan te_lr = nan\n",
      "ga = 1.0 C = 10 eps = 0.1 tr_l =196.9876 te_l = 192.8643 tr_lr = nan te_lr = nan\n",
      "ga = 1.0 C = 10 eps = 0.15 tr_l =197.0641 te_l = 192.9396 tr_lr = nan te_lr = nan\n",
      "ga = 10.0 C = 0.1 eps = 0.05 tr_l =789.6809 te_l = 723.4018 tr_lr = nan te_lr = nan\n",
      "ga = 10.0 C = 0.1 eps = 0.1 tr_l =789.6809 te_l = 723.2550 tr_lr = nan te_lr = nan\n",
      "ga = 10.0 C = 0.1 eps = 0.15 tr_l =789.8014 te_l = 723.1380 tr_lr = nan te_lr = nan\n",
      "ga = 10.0 C = 1.0 eps = 0.05 tr_l =481.6746 te_l = 449.9382 tr_lr = nan te_lr = nan\n",
      "ga = 10.0 C = 1.0 eps = 0.1 tr_l =481.7120 te_l = 449.9591 tr_lr = nan te_lr = nan\n",
      "ga = 10.0 C = 1.0 eps = 0.15 tr_l =481.7524 te_l = 449.9381 tr_lr = nan te_lr = nan\n",
      "ga = 10.0 C = 10 eps = 0.05 tr_l =197.6854 te_l = 235.8478 tr_lr = nan te_lr = nan\n",
      "ga = 10.0 C = 10 eps = 0.1 tr_l =197.7010 te_l = 235.8234 tr_lr = nan te_lr = nan\n",
      "ga = 10.0 C = 10 eps = 0.15 tr_l =197.7276 te_l = 235.8380 tr_lr = nan te_lr = nan\n",
      "ga = auto C = 0.1 eps = 0.05 tr_l =528.1548 te_l = 486.2363 tr_lr = nan te_lr = nan\n",
      "ga = auto C = 0.1 eps = 0.1 tr_l =528.2937 te_l = 486.5195 tr_lr = nan te_lr = nan\n",
      "ga = auto C = 0.1 eps = 0.15 tr_l =529.0114 te_l = 487.2467 tr_lr = nan te_lr = nan\n",
      "ga = auto C = 1.0 eps = 0.05 tr_l =241.3238 te_l = 223.8758 tr_lr = nan te_lr = nan\n",
      "ga = auto C = 1.0 eps = 0.1 tr_l =241.3432 te_l = 223.8731 tr_lr = nan te_lr = nan\n",
      "ga = auto C = 1.0 eps = 0.15 tr_l =241.4302 te_l = 223.8971 tr_lr = nan te_lr = nan\n",
      "ga = auto C = 10 eps = 0.05 tr_l =201.0284 te_l = 189.1624 tr_lr = nan te_lr = nan\n",
      "ga = auto C = 10 eps = 0.1 tr_l =201.0436 te_l = 189.0726 tr_lr = nan te_lr = nan\n",
      "ga = auto C = 10 eps = 0.15 tr_l =201.0193 te_l = 189.0591 tr_lr = nan te_lr = nan\n"
     ]
    }
   ],
   "source": [
    "mat = grid_search(gamma_list = [0.1,1.0, 10.0, 'auto'], C_list = [0.1,1.0,10], epsilon_list = [0.05,0.1,0.15], y_origin=True)"
   ]
  },
  {
   "cell_type": "code",
   "execution_count": 57,
   "metadata": {},
   "outputs": [
    {
     "name": "stdout",
     "output_type": "stream",
     "text": [
      "ga = 0.1 C = 1.0 eps = 0.05 tr_l =255.3818 te_l = 242.0037 tr_lr = nan te_lr = nan\n",
      "ga = 0.1 C = 1.0 eps = 0.1 tr_l =255.3925 te_l = 242.1054 tr_lr = nan te_lr = nan\n",
      "ga = 0.1 C = 1.0 eps = 0.15 tr_l =255.4119 te_l = 242.1528 tr_lr = nan te_lr = nan\n",
      "ga = 0.1 C = 10 eps = 0.05 tr_l =206.5622 te_l = 190.8897 tr_lr = nan te_lr = nan\n",
      "ga = 0.1 C = 10 eps = 0.1 tr_l =206.5720 te_l = 190.9080 tr_lr = nan te_lr = nan\n",
      "ga = 0.1 C = 10 eps = 0.15 tr_l =206.4706 te_l = 190.8523 tr_lr = nan te_lr = nan\n",
      "ga = 0.1 C = 100 eps = 0.05 tr_l =197.4144 te_l = 184.6554 tr_lr = nan te_lr = nan\n",
      "ga = 0.1 C = 100 eps = 0.1 tr_l =197.4497 te_l = 184.9185 tr_lr = nan te_lr = nan\n",
      "ga = 0.1 C = 100 eps = 0.15 tr_l =197.4382 te_l = 184.9645 tr_lr = nan te_lr = nan\n",
      "ga = 1.0 C = 1.0 eps = 0.05 tr_l =258.8592 te_l = 230.8444 tr_lr = nan te_lr = nan\n",
      "ga = 1.0 C = 1.0 eps = 0.1 tr_l =258.5981 te_l = 230.5372 tr_lr = nan te_lr = nan\n",
      "ga = 1.0 C = 1.0 eps = 0.15 tr_l =258.4042 te_l = 230.3476 tr_lr = nan te_lr = nan\n",
      "ga = 1.0 C = 10 eps = 0.05 tr_l =196.9122 te_l = 192.9644 tr_lr = nan te_lr = nan\n",
      "ga = 1.0 C = 10 eps = 0.1 tr_l =196.9876 te_l = 192.8643 tr_lr = nan te_lr = nan\n",
      "ga = 1.0 C = 10 eps = 0.15 tr_l =197.0641 te_l = 192.9396 tr_lr = nan te_lr = nan\n",
      "ga = 1.0 C = 100 eps = 0.05 tr_l =184.7979 te_l = 205.6727 tr_lr = nan te_lr = nan\n",
      "ga = 1.0 C = 100 eps = 0.1 tr_l =184.7571 te_l = 205.8028 tr_lr = nan te_lr = nan\n",
      "ga = 1.0 C = 100 eps = 0.15 tr_l =184.6931 te_l = 205.9881 tr_lr = nan te_lr = nan\n",
      "ga = 10.0 C = 1.0 eps = 0.05 tr_l =481.6746 te_l = 449.9382 tr_lr = nan te_lr = nan\n",
      "ga = 10.0 C = 1.0 eps = 0.1 tr_l =481.7120 te_l = 449.9591 tr_lr = nan te_lr = nan\n",
      "ga = 10.0 C = 1.0 eps = 0.15 tr_l =481.7524 te_l = 449.9381 tr_lr = nan te_lr = nan\n",
      "ga = 10.0 C = 10 eps = 0.05 tr_l =197.6854 te_l = 235.8478 tr_lr = nan te_lr = nan\n",
      "ga = 10.0 C = 10 eps = 0.1 tr_l =197.7010 te_l = 235.8234 tr_lr = nan te_lr = nan\n",
      "ga = 10.0 C = 10 eps = 0.15 tr_l =197.7276 te_l = 235.8380 tr_lr = nan te_lr = nan\n",
      "ga = 10.0 C = 100 eps = 0.05 tr_l =131.2225 te_l = 255.2463 tr_lr = nan te_lr = nan\n",
      "ga = 10.0 C = 100 eps = 0.1 tr_l =131.1136 te_l = 255.1647 tr_lr = nan te_lr = nan\n",
      "ga = 10.0 C = 100 eps = 0.15 tr_l =131.0063 te_l = 255.1385 tr_lr = nan te_lr = nan\n",
      "ga = auto C = 1.0 eps = 0.05 tr_l =241.3238 te_l = 223.8758 tr_lr = nan te_lr = nan\n",
      "ga = auto C = 1.0 eps = 0.1 tr_l =241.3432 te_l = 223.8731 tr_lr = nan te_lr = nan\n",
      "ga = auto C = 1.0 eps = 0.15 tr_l =241.4302 te_l = 223.8971 tr_lr = nan te_lr = nan\n",
      "ga = auto C = 10 eps = 0.05 tr_l =201.0284 te_l = 189.1624 tr_lr = nan te_lr = nan\n",
      "ga = auto C = 10 eps = 0.1 tr_l =201.0436 te_l = 189.0726 tr_lr = nan te_lr = nan\n",
      "ga = auto C = 10 eps = 0.15 tr_l =201.0193 te_l = 189.0591 tr_lr = nan te_lr = nan\n",
      "ga = auto C = 100 eps = 0.05 tr_l =194.0531 te_l = 184.9308 tr_lr = nan te_lr = nan\n",
      "ga = auto C = 100 eps = 0.1 tr_l =194.0171 te_l = 185.1684 tr_lr = nan te_lr = nan\n",
      "ga = auto C = 100 eps = 0.15 tr_l =193.9905 te_l = 185.2801 tr_lr = nan te_lr = nan\n"
     ]
    }
   ],
   "source": [
    "mat = grid_search(gamma_list = [0.1,1.0, 10.0, 'auto'], C_list = [1.0,10, 100], epsilon_list = [0.05,0.1,0.15], y_origin=True)"
   ]
  },
  {
   "cell_type": "code",
   "execution_count": 58,
   "metadata": {},
   "outputs": [
    {
     "name": "stdout",
     "output_type": "stream",
     "text": [
      "ga = 0.1 C = 10 eps = 0.05 tr_l =206.5622 te_l = 190.8897 tr_lr = nan te_lr = nan\n",
      "ga = 0.1 C = 10 eps = 0.1 tr_l =206.5720 te_l = 190.9080 tr_lr = nan te_lr = nan\n",
      "ga = 0.1 C = 10 eps = 0.15 tr_l =206.4706 te_l = 190.8523 tr_lr = nan te_lr = nan\n",
      "ga = 0.1 C = 100 eps = 0.05 tr_l =197.4144 te_l = 184.6554 tr_lr = nan te_lr = nan\n",
      "ga = 0.1 C = 100 eps = 0.1 tr_l =197.4497 te_l = 184.9185 tr_lr = nan te_lr = nan\n",
      "ga = 0.1 C = 100 eps = 0.15 tr_l =197.4382 te_l = 184.9645 tr_lr = nan te_lr = nan\n",
      "ga = 0.1 C = 1000 eps = 0.05 tr_l =196.0130 te_l = 184.2467 tr_lr = nan te_lr = nan\n",
      "ga = 0.1 C = 1000 eps = 0.1 tr_l =196.0677 te_l = 184.3440 tr_lr = nan te_lr = nan\n",
      "ga = 0.1 C = 1000 eps = 0.15 tr_l =195.9795 te_l = 184.1494 tr_lr = nan te_lr = nan\n",
      "ga = 1.0 C = 10 eps = 0.05 tr_l =196.9122 te_l = 192.9644 tr_lr = nan te_lr = nan\n",
      "ga = 1.0 C = 10 eps = 0.1 tr_l =196.9876 te_l = 192.8643 tr_lr = nan te_lr = nan\n",
      "ga = 1.0 C = 10 eps = 0.15 tr_l =197.0641 te_l = 192.9396 tr_lr = nan te_lr = nan\n",
      "ga = 1.0 C = 100 eps = 0.05 tr_l =184.7979 te_l = 205.6727 tr_lr = nan te_lr = nan\n",
      "ga = 1.0 C = 100 eps = 0.1 tr_l =184.7571 te_l = 205.8028 tr_lr = nan te_lr = nan\n",
      "ga = 1.0 C = 100 eps = 0.15 tr_l =184.6931 te_l = 205.9881 tr_lr = nan te_lr = nan\n",
      "ga = 1.0 C = 1000 eps = 0.05 tr_l =171.9870 te_l = 279.4851 tr_lr = nan te_lr = nan\n",
      "ga = 1.0 C = 1000 eps = 0.1 tr_l =172.0189 te_l = 280.3367 tr_lr = nan te_lr = nan\n",
      "ga = 1.0 C = 1000 eps = 0.15 tr_l =171.9910 te_l = 280.3086 tr_lr = nan te_lr = nan\n",
      "ga = 10.0 C = 10 eps = 0.05 tr_l =197.6854 te_l = 235.8478 tr_lr = nan te_lr = nan\n",
      "ga = 10.0 C = 10 eps = 0.1 tr_l =197.7010 te_l = 235.8234 tr_lr = nan te_lr = nan\n",
      "ga = 10.0 C = 10 eps = 0.15 tr_l =197.7276 te_l = 235.8380 tr_lr = nan te_lr = nan\n",
      "ga = 10.0 C = 100 eps = 0.05 tr_l =131.2225 te_l = 255.2463 tr_lr = nan te_lr = nan\n",
      "ga = 10.0 C = 100 eps = 0.1 tr_l =131.1136 te_l = 255.1647 tr_lr = nan te_lr = nan\n",
      "ga = 10.0 C = 100 eps = 0.15 tr_l =131.0063 te_l = 255.1385 tr_lr = nan te_lr = nan\n",
      "ga = 10.0 C = 1000 eps = 0.05 tr_l =104.7115 te_l = 323.0135 tr_lr = nan te_lr = nan\n",
      "ga = 10.0 C = 1000 eps = 0.1 tr_l =104.6291 te_l = 322.8498 tr_lr = nan te_lr = nan\n",
      "ga = 10.0 C = 1000 eps = 0.15 tr_l =104.5583 te_l = 322.7802 tr_lr = nan te_lr = nan\n",
      "ga = auto C = 10 eps = 0.05 tr_l =201.0284 te_l = 189.1624 tr_lr = nan te_lr = nan\n",
      "ga = auto C = 10 eps = 0.1 tr_l =201.0436 te_l = 189.0726 tr_lr = nan te_lr = nan\n",
      "ga = auto C = 10 eps = 0.15 tr_l =201.0193 te_l = 189.0591 tr_lr = nan te_lr = nan\n",
      "ga = auto C = 100 eps = 0.05 tr_l =194.0531 te_l = 184.9308 tr_lr = nan te_lr = nan\n",
      "ga = auto C = 100 eps = 0.1 tr_l =194.0171 te_l = 185.1684 tr_lr = nan te_lr = nan\n",
      "ga = auto C = 100 eps = 0.15 tr_l =193.9905 te_l = 185.2801 tr_lr = nan te_lr = nan\n",
      "ga = auto C = 1000 eps = 0.05 tr_l =189.6967 te_l = 192.5879 tr_lr = nan te_lr = nan\n",
      "ga = auto C = 1000 eps = 0.1 tr_l =189.7202 te_l = 192.4978 tr_lr = nan te_lr = nan\n",
      "ga = auto C = 1000 eps = 0.15 tr_l =189.7377 te_l = 192.4406 tr_lr = nan te_lr = nan\n"
     ]
    }
   ],
   "source": [
    "mat = grid_search(gamma_list = [0.1,1.0, 10.0, 'auto'], C_list = [10, 100, 1000], epsilon_list = [0.05,0.1,0.15], y_origin=True)"
   ]
  },
  {
   "cell_type": "code",
   "execution_count": 59,
   "metadata": {},
   "outputs": [
    {
     "name": "stdout",
     "output_type": "stream",
     "text": [
      "ga = 0.05 C = 50 eps = 0.05 tr_l =205.2061 te_l = 189.4933 tr_lr = nan te_lr = nan\n",
      "ga = 0.05 C = 50 eps = 0.1 tr_l =205.1569 te_l = 189.4432 tr_lr = nan te_lr = nan\n",
      "ga = 0.05 C = 50 eps = 0.15 tr_l =205.0885 te_l = 189.4444 tr_lr = nan te_lr = nan\n",
      "ga = 0.05 C = 100 eps = 0.05 tr_l =201.3309 te_l = 186.3805 tr_lr = nan te_lr = nan\n",
      "ga = 0.05 C = 100 eps = 0.1 tr_l =201.3932 te_l = 186.4354 tr_lr = nan te_lr = nan\n",
      "ga = 0.05 C = 100 eps = 0.15 tr_l =201.4319 te_l = 186.4868 tr_lr = nan te_lr = nan\n",
      "ga = 0.05 C = 150 eps = 0.05 tr_l =199.7808 te_l = 184.8358 tr_lr = nan te_lr = nan\n",
      "ga = 0.05 C = 150 eps = 0.1 tr_l =199.7707 te_l = 184.8665 tr_lr = nan te_lr = nan\n",
      "ga = 0.05 C = 150 eps = 0.15 tr_l =199.7931 te_l = 184.8836 tr_lr = nan te_lr = nan\n",
      "ga = 0.1 C = 50 eps = 0.05 tr_l =199.0729 te_l = 186.1583 tr_lr = nan te_lr = nan\n",
      "ga = 0.1 C = 50 eps = 0.1 tr_l =199.0498 te_l = 186.3103 tr_lr = nan te_lr = nan\n",
      "ga = 0.1 C = 50 eps = 0.15 tr_l =199.0376 te_l = 186.3903 tr_lr = nan te_lr = nan\n",
      "ga = 0.1 C = 100 eps = 0.05 tr_l =197.4144 te_l = 184.6554 tr_lr = nan te_lr = nan\n",
      "ga = 0.1 C = 100 eps = 0.1 tr_l =197.4497 te_l = 184.9185 tr_lr = nan te_lr = nan\n",
      "ga = 0.1 C = 100 eps = 0.15 tr_l =197.4382 te_l = 184.9645 tr_lr = nan te_lr = nan\n",
      "ga = 0.1 C = 150 eps = 0.05 tr_l =197.2095 te_l = 185.1788 tr_lr = nan te_lr = nan\n",
      "ga = 0.1 C = 150 eps = 0.1 tr_l =197.1473 te_l = 185.1798 tr_lr = nan te_lr = nan\n",
      "ga = 0.1 C = 150 eps = 0.15 tr_l =197.1349 te_l = 185.2090 tr_lr = nan te_lr = nan\n",
      "ga = 0.15 C = 50 eps = 0.05 tr_l =197.9823 te_l = 187.1178 tr_lr = nan te_lr = nan\n",
      "ga = 0.15 C = 50 eps = 0.1 tr_l =197.8949 te_l = 186.9966 tr_lr = nan te_lr = nan\n",
      "ga = 0.15 C = 50 eps = 0.15 tr_l =197.9072 te_l = 187.1215 tr_lr = nan te_lr = nan\n",
      "ga = 0.15 C = 100 eps = 0.05 tr_l =197.3585 te_l = 187.6800 tr_lr = nan te_lr = nan\n",
      "ga = 0.15 C = 100 eps = 0.1 tr_l =197.2694 te_l = 187.5495 tr_lr = nan te_lr = nan\n",
      "ga = 0.15 C = 100 eps = 0.15 tr_l =197.1973 te_l = 187.2452 tr_lr = nan te_lr = nan\n",
      "ga = 0.15 C = 150 eps = 0.05 tr_l =196.9923 te_l = 187.0608 tr_lr = nan te_lr = nan\n",
      "ga = 0.15 C = 150 eps = 0.1 tr_l =196.9607 te_l = 187.1095 tr_lr = nan te_lr = nan\n",
      "ga = 0.15 C = 150 eps = 0.15 tr_l =196.9176 te_l = 186.9253 tr_lr = nan te_lr = nan\n",
      "ga = auto C = 50 eps = 0.05 tr_l =195.6040 te_l = 185.9686 tr_lr = nan te_lr = nan\n",
      "ga = auto C = 50 eps = 0.1 tr_l =195.5901 te_l = 185.8089 tr_lr = nan te_lr = nan\n",
      "ga = auto C = 50 eps = 0.15 tr_l =195.5503 te_l = 185.6372 tr_lr = nan te_lr = nan\n",
      "ga = auto C = 100 eps = 0.05 tr_l =194.0531 te_l = 184.9308 tr_lr = nan te_lr = nan\n",
      "ga = auto C = 100 eps = 0.1 tr_l =194.0171 te_l = 185.1684 tr_lr = nan te_lr = nan\n",
      "ga = auto C = 100 eps = 0.15 tr_l =193.9905 te_l = 185.2801 tr_lr = nan te_lr = nan\n",
      "ga = auto C = 150 eps = 0.05 tr_l =193.3127 te_l = 185.6473 tr_lr = nan te_lr = nan\n",
      "ga = auto C = 150 eps = 0.1 tr_l =193.2422 te_l = 185.9403 tr_lr = nan te_lr = nan\n",
      "ga = auto C = 150 eps = 0.15 tr_l =193.2132 te_l = 186.2428 tr_lr = nan te_lr = nan\n"
     ]
    }
   ],
   "source": [
    "mat = grid_search(gamma_list = [0.05,0.1, 0.15, 'auto'], C_list = [50, 100, 150], epsilon_list = [0.05,0.1,0.15], y_origin=True)"
   ]
  },
  {
   "cell_type": "markdown",
   "metadata": {},
   "source": [
    "不出意料只要允许C取大，其实能得到差不多的效果而不需要标准化因变量。\n",
    "\n",
    "ga = 0.1 C = 100 eps = 0.05 tr_l =197.4144 te_l = 184.6554 tr_lr = nan te_lr = nan\n",
    "\n",
    "不过说起来这也只不过达到了184.6554，之前虽然不做对数变换的达不到这个，但是做了对数变化的完全可以达到这个。。\n",
    "\n",
    "如果是先对数变换再标准化的话"
   ]
  },
  {
   "cell_type": "code",
   "execution_count": null,
   "metadata": {},
   "outputs": [],
   "source": []
  }
 ],
 "metadata": {
  "kernelspec": {
   "display_name": "Python 3",
   "language": "python",
   "name": "python3"
  },
  "language_info": {
   "codemirror_mode": {
    "name": "ipython",
    "version": 3
   },
   "file_extension": ".py",
   "mimetype": "text/x-python",
   "name": "python",
   "nbconvert_exporter": "python",
   "pygments_lexer": "ipython3",
   "version": "3.6.5"
  }
 },
 "nbformat": 4,
 "nbformat_minor": 2
}
